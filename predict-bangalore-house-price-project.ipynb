{
 "cells": [
  {
   "cell_type": "code",
   "execution_count": 1,
   "id": "544387ac",
   "metadata": {
    "_cell_guid": "b1076dfc-b9ad-4769-8c92-a6c4dae69d19",
    "_uuid": "8f2839f25d086af736a60e9eeb907d3b93b6e0e5",
    "execution": {
     "iopub.execute_input": "2022-05-12T11:33:05.005985Z",
     "iopub.status.busy": "2022-05-12T11:33:05.005648Z",
     "iopub.status.idle": "2022-05-12T11:33:05.015980Z",
     "shell.execute_reply": "2022-05-12T11:33:05.014904Z"
    },
    "papermill": {
     "duration": 0.082827,
     "end_time": "2022-05-12T11:33:05.018159",
     "exception": false,
     "start_time": "2022-05-12T11:33:04.935332",
     "status": "completed"
    },
    "tags": []
   },
   "outputs": [],
   "source": [
    "import pandas as pd\n",
    "import numpy as np\n",
    "from matplotlib import pyplot as plt"
   ]
  },
  {
   "cell_type": "markdown",
   "id": "614f8040",
   "metadata": {
    "papermill": {
     "duration": 0.065143,
     "end_time": "2022-05-12T11:33:05.150939",
     "exception": false,
     "start_time": "2022-05-12T11:33:05.085796",
     "status": "completed"
    },
    "tags": []
   },
   "source": [
    "# Load Data"
   ]
  },
  {
   "cell_type": "code",
   "execution_count": 2,
   "id": "18d0266a",
   "metadata": {
    "execution": {
     "iopub.execute_input": "2022-05-12T11:33:05.285557Z",
     "iopub.status.busy": "2022-05-12T11:33:05.284990Z",
     "iopub.status.idle": "2022-05-12T11:33:05.364376Z",
     "shell.execute_reply": "2022-05-12T11:33:05.363503Z"
    },
    "papermill": {
     "duration": 0.151605,
     "end_time": "2022-05-12T11:33:05.367400",
     "exception": false,
     "start_time": "2022-05-12T11:33:05.215795",
     "status": "completed"
    },
    "tags": []
   },
   "outputs": [
    {
     "data": {
      "text/html": [
       "<div>\n",
       "<style scoped>\n",
       "    .dataframe tbody tr th:only-of-type {\n",
       "        vertical-align: middle;\n",
       "    }\n",
       "\n",
       "    .dataframe tbody tr th {\n",
       "        vertical-align: top;\n",
       "    }\n",
       "\n",
       "    .dataframe thead th {\n",
       "        text-align: right;\n",
       "    }\n",
       "</style>\n",
       "<table border=\"1\" class=\"dataframe\">\n",
       "  <thead>\n",
       "    <tr style=\"text-align: right;\">\n",
       "      <th></th>\n",
       "      <th>area_type</th>\n",
       "      <th>availability</th>\n",
       "      <th>location</th>\n",
       "      <th>size</th>\n",
       "      <th>society</th>\n",
       "      <th>total_sqft</th>\n",
       "      <th>bath</th>\n",
       "      <th>balcony</th>\n",
       "      <th>price</th>\n",
       "    </tr>\n",
       "  </thead>\n",
       "  <tbody>\n",
       "    <tr>\n",
       "      <th>0</th>\n",
       "      <td>Super built-up  Area</td>\n",
       "      <td>19-Dec</td>\n",
       "      <td>Electronic City Phase II</td>\n",
       "      <td>2 BHK</td>\n",
       "      <td>Coomee</td>\n",
       "      <td>1056</td>\n",
       "      <td>2.0</td>\n",
       "      <td>1.0</td>\n",
       "      <td>39.07</td>\n",
       "    </tr>\n",
       "    <tr>\n",
       "      <th>1</th>\n",
       "      <td>Plot  Area</td>\n",
       "      <td>Ready To Move</td>\n",
       "      <td>Chikka Tirupathi</td>\n",
       "      <td>4 Bedroom</td>\n",
       "      <td>Theanmp</td>\n",
       "      <td>2600</td>\n",
       "      <td>5.0</td>\n",
       "      <td>3.0</td>\n",
       "      <td>120.00</td>\n",
       "    </tr>\n",
       "    <tr>\n",
       "      <th>2</th>\n",
       "      <td>Built-up  Area</td>\n",
       "      <td>Ready To Move</td>\n",
       "      <td>Uttarahalli</td>\n",
       "      <td>3 BHK</td>\n",
       "      <td>NaN</td>\n",
       "      <td>1440</td>\n",
       "      <td>2.0</td>\n",
       "      <td>3.0</td>\n",
       "      <td>62.00</td>\n",
       "    </tr>\n",
       "  </tbody>\n",
       "</table>\n",
       "</div>"
      ],
      "text/plain": [
       "              area_type   availability                  location       size  \\\n",
       "0  Super built-up  Area         19-Dec  Electronic City Phase II      2 BHK   \n",
       "1            Plot  Area  Ready To Move          Chikka Tirupathi  4 Bedroom   \n",
       "2        Built-up  Area  Ready To Move               Uttarahalli      3 BHK   \n",
       "\n",
       "   society total_sqft  bath  balcony   price  \n",
       "0  Coomee        1056   2.0      1.0   39.07  \n",
       "1  Theanmp       2600   5.0      3.0  120.00  \n",
       "2      NaN       1440   2.0      3.0   62.00  "
      ]
     },
     "execution_count": 2,
     "metadata": {},
     "output_type": "execute_result"
    }
   ],
   "source": [
    "df1 = pd.read_csv('../input/banglore-house-price-data/bengaluru_house_prices.csv')\n",
    "df1.head(3)"
   ]
  },
  {
   "cell_type": "code",
   "execution_count": 3,
   "id": "d4a19f56",
   "metadata": {
    "execution": {
     "iopub.execute_input": "2022-05-12T11:33:05.500988Z",
     "iopub.status.busy": "2022-05-12T11:33:05.500420Z",
     "iopub.status.idle": "2022-05-12T11:33:05.538499Z",
     "shell.execute_reply": "2022-05-12T11:33:05.537107Z"
    },
    "papermill": {
     "duration": 0.109117,
     "end_time": "2022-05-12T11:33:05.542678",
     "exception": false,
     "start_time": "2022-05-12T11:33:05.433561",
     "status": "completed"
    },
    "tags": []
   },
   "outputs": [
    {
     "name": "stdout",
     "output_type": "stream",
     "text": [
      "<class 'pandas.core.frame.DataFrame'>\n",
      "RangeIndex: 13320 entries, 0 to 13319\n",
      "Data columns (total 9 columns):\n",
      " #   Column        Non-Null Count  Dtype  \n",
      "---  ------        --------------  -----  \n",
      " 0   area_type     13320 non-null  object \n",
      " 1   availability  13320 non-null  object \n",
      " 2   location      13319 non-null  object \n",
      " 3   size          13304 non-null  object \n",
      " 4   society       7818 non-null   object \n",
      " 5   total_sqft    13320 non-null  object \n",
      " 6   bath          13247 non-null  float64\n",
      " 7   balcony       12711 non-null  float64\n",
      " 8   price         13320 non-null  float64\n",
      "dtypes: float64(3), object(6)\n",
      "memory usage: 936.7+ KB\n"
     ]
    }
   ],
   "source": [
    "df1.info()"
   ]
  },
  {
   "cell_type": "code",
   "execution_count": 4,
   "id": "771a0f02",
   "metadata": {
    "execution": {
     "iopub.execute_input": "2022-05-12T11:33:05.679622Z",
     "iopub.status.busy": "2022-05-12T11:33:05.678893Z",
     "iopub.status.idle": "2022-05-12T11:33:05.695745Z",
     "shell.execute_reply": "2022-05-12T11:33:05.694874Z"
    },
    "papermill": {
     "duration": 0.086456,
     "end_time": "2022-05-12T11:33:05.697964",
     "exception": false,
     "start_time": "2022-05-12T11:33:05.611508",
     "status": "completed"
    },
    "tags": []
   },
   "outputs": [
    {
     "data": {
      "text/html": [
       "<div>\n",
       "<style scoped>\n",
       "    .dataframe tbody tr th:only-of-type {\n",
       "        vertical-align: middle;\n",
       "    }\n",
       "\n",
       "    .dataframe tbody tr th {\n",
       "        vertical-align: top;\n",
       "    }\n",
       "\n",
       "    .dataframe thead th {\n",
       "        text-align: right;\n",
       "    }\n",
       "</style>\n",
       "<table border=\"1\" class=\"dataframe\">\n",
       "  <thead>\n",
       "    <tr style=\"text-align: right;\">\n",
       "      <th></th>\n",
       "      <th>location</th>\n",
       "      <th>size</th>\n",
       "      <th>total_sqft</th>\n",
       "      <th>bath</th>\n",
       "      <th>price</th>\n",
       "    </tr>\n",
       "  </thead>\n",
       "  <tbody>\n",
       "    <tr>\n",
       "      <th>0</th>\n",
       "      <td>Electronic City Phase II</td>\n",
       "      <td>2 BHK</td>\n",
       "      <td>1056</td>\n",
       "      <td>2.0</td>\n",
       "      <td>39.07</td>\n",
       "    </tr>\n",
       "    <tr>\n",
       "      <th>1</th>\n",
       "      <td>Chikka Tirupathi</td>\n",
       "      <td>4 Bedroom</td>\n",
       "      <td>2600</td>\n",
       "      <td>5.0</td>\n",
       "      <td>120.00</td>\n",
       "    </tr>\n",
       "    <tr>\n",
       "      <th>2</th>\n",
       "      <td>Uttarahalli</td>\n",
       "      <td>3 BHK</td>\n",
       "      <td>1440</td>\n",
       "      <td>2.0</td>\n",
       "      <td>62.00</td>\n",
       "    </tr>\n",
       "    <tr>\n",
       "      <th>3</th>\n",
       "      <td>Lingadheeranahalli</td>\n",
       "      <td>3 BHK</td>\n",
       "      <td>1521</td>\n",
       "      <td>3.0</td>\n",
       "      <td>95.00</td>\n",
       "    </tr>\n",
       "    <tr>\n",
       "      <th>4</th>\n",
       "      <td>Kothanur</td>\n",
       "      <td>2 BHK</td>\n",
       "      <td>1200</td>\n",
       "      <td>2.0</td>\n",
       "      <td>51.00</td>\n",
       "    </tr>\n",
       "  </tbody>\n",
       "</table>\n",
       "</div>"
      ],
      "text/plain": [
       "                   location       size total_sqft  bath   price\n",
       "0  Electronic City Phase II      2 BHK       1056   2.0   39.07\n",
       "1          Chikka Tirupathi  4 Bedroom       2600   5.0  120.00\n",
       "2               Uttarahalli      3 BHK       1440   2.0   62.00\n",
       "3        Lingadheeranahalli      3 BHK       1521   3.0   95.00\n",
       "4                  Kothanur      2 BHK       1200   2.0   51.00"
      ]
     },
     "execution_count": 4,
     "metadata": {},
     "output_type": "execute_result"
    }
   ],
   "source": [
    "df2 = df1.drop(['area_type','society','balcony','availability'], axis='columns')\n",
    "df2.head()"
   ]
  },
  {
   "cell_type": "markdown",
   "id": "bf1da7a0",
   "metadata": {
    "papermill": {
     "duration": 0.068802,
     "end_time": "2022-05-12T11:33:05.834158",
     "exception": false,
     "start_time": "2022-05-12T11:33:05.765356",
     "status": "completed"
    },
    "tags": []
   },
   "source": [
    "# Data cleaning : Handling NA values"
   ]
  },
  {
   "cell_type": "code",
   "execution_count": 5,
   "id": "5cf91300",
   "metadata": {
    "execution": {
     "iopub.execute_input": "2022-05-12T11:33:05.973422Z",
     "iopub.status.busy": "2022-05-12T11:33:05.972860Z",
     "iopub.status.idle": "2022-05-12T11:33:05.985921Z",
     "shell.execute_reply": "2022-05-12T11:33:05.985107Z"
    },
    "papermill": {
     "duration": 0.083548,
     "end_time": "2022-05-12T11:33:05.987976",
     "exception": false,
     "start_time": "2022-05-12T11:33:05.904428",
     "status": "completed"
    },
    "tags": []
   },
   "outputs": [
    {
     "data": {
      "text/plain": [
       "location       1\n",
       "size          16\n",
       "total_sqft     0\n",
       "bath          73\n",
       "price          0\n",
       "dtype: int64"
      ]
     },
     "execution_count": 5,
     "metadata": {},
     "output_type": "execute_result"
    }
   ],
   "source": [
    "df2.isnull().sum()"
   ]
  },
  {
   "cell_type": "code",
   "execution_count": 6,
   "id": "c78a110e",
   "metadata": {
    "execution": {
     "iopub.execute_input": "2022-05-12T11:33:06.123875Z",
     "iopub.status.busy": "2022-05-12T11:33:06.123585Z",
     "iopub.status.idle": "2022-05-12T11:33:06.144202Z",
     "shell.execute_reply": "2022-05-12T11:33:06.143549Z"
    },
    "papermill": {
     "duration": 0.09088,
     "end_time": "2022-05-12T11:33:06.146210",
     "exception": false,
     "start_time": "2022-05-12T11:33:06.055330",
     "status": "completed"
    },
    "tags": []
   },
   "outputs": [
    {
     "data": {
      "text/plain": [
       "location      0\n",
       "size          0\n",
       "total_sqft    0\n",
       "bath          0\n",
       "price         0\n",
       "dtype: int64"
      ]
     },
     "execution_count": 6,
     "metadata": {},
     "output_type": "execute_result"
    }
   ],
   "source": [
    "df3 = df2.dropna()\n",
    "df3.isnull().sum()"
   ]
  },
  {
   "cell_type": "code",
   "execution_count": 7,
   "id": "256d044e",
   "metadata": {
    "execution": {
     "iopub.execute_input": "2022-05-12T11:33:06.285909Z",
     "iopub.status.busy": "2022-05-12T11:33:06.285124Z",
     "iopub.status.idle": "2022-05-12T11:33:06.290721Z",
     "shell.execute_reply": "2022-05-12T11:33:06.290128Z"
    },
    "papermill": {
     "duration": 0.077598,
     "end_time": "2022-05-12T11:33:06.292751",
     "exception": false,
     "start_time": "2022-05-12T11:33:06.215153",
     "status": "completed"
    },
    "tags": []
   },
   "outputs": [
    {
     "data": {
      "text/plain": [
       "(13246, 5)"
      ]
     },
     "execution_count": 7,
     "metadata": {},
     "output_type": "execute_result"
    }
   ],
   "source": [
    "df3.shape"
   ]
  },
  {
   "cell_type": "markdown",
   "id": "845dd242",
   "metadata": {
    "papermill": {
     "duration": 0.068415,
     "end_time": "2022-05-12T11:33:06.429652",
     "exception": false,
     "start_time": "2022-05-12T11:33:06.361237",
     "status": "completed"
    },
    "tags": []
   },
   "source": [
    "# Feature Engineering"
   ]
  },
  {
   "cell_type": "markdown",
   "id": "199268c6",
   "metadata": {
    "papermill": {
     "duration": 0.071407,
     "end_time": "2022-05-12T11:33:06.572279",
     "exception": false,
     "start_time": "2022-05-12T11:33:06.500872",
     "status": "completed"
    },
    "tags": []
   },
   "source": [
    "**Explore size column**"
   ]
  },
  {
   "cell_type": "code",
   "execution_count": 8,
   "id": "8b865db6",
   "metadata": {
    "execution": {
     "iopub.execute_input": "2022-05-12T11:33:06.710382Z",
     "iopub.status.busy": "2022-05-12T11:33:06.710071Z",
     "iopub.status.idle": "2022-05-12T11:33:06.718497Z",
     "shell.execute_reply": "2022-05-12T11:33:06.717817Z"
    },
    "papermill": {
     "duration": 0.080325,
     "end_time": "2022-05-12T11:33:06.720371",
     "exception": false,
     "start_time": "2022-05-12T11:33:06.640046",
     "status": "completed"
    },
    "tags": []
   },
   "outputs": [
    {
     "data": {
      "text/plain": [
       "array(['2 BHK', '4 Bedroom', '3 BHK', '4 BHK', '6 Bedroom', '3 Bedroom',\n",
       "       '1 BHK', '1 RK', '1 Bedroom', '8 Bedroom', '2 Bedroom',\n",
       "       '7 Bedroom', '5 BHK', '7 BHK', '6 BHK', '5 Bedroom', '11 BHK',\n",
       "       '9 BHK', '9 Bedroom', '27 BHK', '10 Bedroom', '11 Bedroom',\n",
       "       '10 BHK', '19 BHK', '16 BHK', '43 Bedroom', '14 BHK', '8 BHK',\n",
       "       '12 Bedroom', '13 BHK', '18 Bedroom'], dtype=object)"
      ]
     },
     "execution_count": 8,
     "metadata": {},
     "output_type": "execute_result"
    }
   ],
   "source": [
    "df3['size'].unique()"
   ]
  },
  {
   "cell_type": "markdown",
   "id": "2f29c76d",
   "metadata": {
    "papermill": {
     "duration": 0.06991,
     "end_time": "2022-05-12T11:33:06.858839",
     "exception": false,
     "start_time": "2022-05-12T11:33:06.788929",
     "status": "completed"
    },
    "tags": []
   },
   "source": [
    "**Here above we can see that 4 Bedroom and 4 BHK are same and so on**"
   ]
  },
  {
   "cell_type": "code",
   "execution_count": 9,
   "id": "ff383469",
   "metadata": {
    "execution": {
     "iopub.execute_input": "2022-05-12T11:33:06.999506Z",
     "iopub.status.busy": "2022-05-12T11:33:06.998951Z",
     "iopub.status.idle": "2022-05-12T11:33:07.017519Z",
     "shell.execute_reply": "2022-05-12T11:33:07.016850Z"
    },
    "papermill": {
     "duration": 0.091541,
     "end_time": "2022-05-12T11:33:07.019705",
     "exception": false,
     "start_time": "2022-05-12T11:33:06.928164",
     "status": "completed"
    },
    "tags": []
   },
   "outputs": [
    {
     "name": "stderr",
     "output_type": "stream",
     "text": [
      "/opt/conda/lib/python3.7/site-packages/ipykernel_launcher.py:1: SettingWithCopyWarning: \n",
      "A value is trying to be set on a copy of a slice from a DataFrame.\n",
      "Try using .loc[row_indexer,col_indexer] = value instead\n",
      "\n",
      "See the caveats in the documentation: https://pandas.pydata.org/pandas-docs/stable/user_guide/indexing.html#returning-a-view-versus-a-copy\n",
      "  \"\"\"Entry point for launching an IPython kernel.\n"
     ]
    }
   ],
   "source": [
    "df3['bhk'] = df3['size'].apply(lambda x : int(x.split(' ')[0]))"
   ]
  },
  {
   "cell_type": "code",
   "execution_count": 10,
   "id": "5e20f124",
   "metadata": {
    "execution": {
     "iopub.execute_input": "2022-05-12T11:33:07.158519Z",
     "iopub.status.busy": "2022-05-12T11:33:07.158203Z",
     "iopub.status.idle": "2022-05-12T11:33:07.172108Z",
     "shell.execute_reply": "2022-05-12T11:33:07.171092Z"
    },
    "papermill": {
     "duration": 0.085701,
     "end_time": "2022-05-12T11:33:07.174220",
     "exception": false,
     "start_time": "2022-05-12T11:33:07.088519",
     "status": "completed"
    },
    "tags": []
   },
   "outputs": [
    {
     "data": {
      "text/html": [
       "<div>\n",
       "<style scoped>\n",
       "    .dataframe tbody tr th:only-of-type {\n",
       "        vertical-align: middle;\n",
       "    }\n",
       "\n",
       "    .dataframe tbody tr th {\n",
       "        vertical-align: top;\n",
       "    }\n",
       "\n",
       "    .dataframe thead th {\n",
       "        text-align: right;\n",
       "    }\n",
       "</style>\n",
       "<table border=\"1\" class=\"dataframe\">\n",
       "  <thead>\n",
       "    <tr style=\"text-align: right;\">\n",
       "      <th></th>\n",
       "      <th>location</th>\n",
       "      <th>size</th>\n",
       "      <th>total_sqft</th>\n",
       "      <th>bath</th>\n",
       "      <th>price</th>\n",
       "      <th>bhk</th>\n",
       "    </tr>\n",
       "  </thead>\n",
       "  <tbody>\n",
       "    <tr>\n",
       "      <th>0</th>\n",
       "      <td>Electronic City Phase II</td>\n",
       "      <td>2 BHK</td>\n",
       "      <td>1056</td>\n",
       "      <td>2.0</td>\n",
       "      <td>39.07</td>\n",
       "      <td>2</td>\n",
       "    </tr>\n",
       "    <tr>\n",
       "      <th>1</th>\n",
       "      <td>Chikka Tirupathi</td>\n",
       "      <td>4 Bedroom</td>\n",
       "      <td>2600</td>\n",
       "      <td>5.0</td>\n",
       "      <td>120.00</td>\n",
       "      <td>4</td>\n",
       "    </tr>\n",
       "    <tr>\n",
       "      <th>2</th>\n",
       "      <td>Uttarahalli</td>\n",
       "      <td>3 BHK</td>\n",
       "      <td>1440</td>\n",
       "      <td>2.0</td>\n",
       "      <td>62.00</td>\n",
       "      <td>3</td>\n",
       "    </tr>\n",
       "    <tr>\n",
       "      <th>3</th>\n",
       "      <td>Lingadheeranahalli</td>\n",
       "      <td>3 BHK</td>\n",
       "      <td>1521</td>\n",
       "      <td>3.0</td>\n",
       "      <td>95.00</td>\n",
       "      <td>3</td>\n",
       "    </tr>\n",
       "    <tr>\n",
       "      <th>4</th>\n",
       "      <td>Kothanur</td>\n",
       "      <td>2 BHK</td>\n",
       "      <td>1200</td>\n",
       "      <td>2.0</td>\n",
       "      <td>51.00</td>\n",
       "      <td>2</td>\n",
       "    </tr>\n",
       "  </tbody>\n",
       "</table>\n",
       "</div>"
      ],
      "text/plain": [
       "                   location       size total_sqft  bath   price  bhk\n",
       "0  Electronic City Phase II      2 BHK       1056   2.0   39.07    2\n",
       "1          Chikka Tirupathi  4 Bedroom       2600   5.0  120.00    4\n",
       "2               Uttarahalli      3 BHK       1440   2.0   62.00    3\n",
       "3        Lingadheeranahalli      3 BHK       1521   3.0   95.00    3\n",
       "4                  Kothanur      2 BHK       1200   2.0   51.00    2"
      ]
     },
     "execution_count": 10,
     "metadata": {},
     "output_type": "execute_result"
    }
   ],
   "source": [
    "df3.head()"
   ]
  },
  {
   "cell_type": "markdown",
   "id": "04a3eead",
   "metadata": {
    "papermill": {
     "duration": 0.069457,
     "end_time": "2022-05-12T11:33:07.313953",
     "exception": false,
     "start_time": "2022-05-12T11:33:07.244496",
     "status": "completed"
    },
    "tags": []
   },
   "source": [
    "**Explore total_sqft column**"
   ]
  },
  {
   "cell_type": "code",
   "execution_count": 11,
   "id": "fc78bd15",
   "metadata": {
    "execution": {
     "iopub.execute_input": "2022-05-12T11:33:07.459356Z",
     "iopub.status.busy": "2022-05-12T11:33:07.459090Z",
     "iopub.status.idle": "2022-05-12T11:33:07.466388Z",
     "shell.execute_reply": "2022-05-12T11:33:07.465381Z"
    },
    "papermill": {
     "duration": 0.081399,
     "end_time": "2022-05-12T11:33:07.468383",
     "exception": false,
     "start_time": "2022-05-12T11:33:07.386984",
     "status": "completed"
    },
    "tags": []
   },
   "outputs": [
    {
     "data": {
      "text/plain": [
       "array(['1056', '2600', '1440', ..., '1133 - 1384', '774', '4689'],\n",
       "      dtype=object)"
      ]
     },
     "execution_count": 11,
     "metadata": {},
     "output_type": "execute_result"
    }
   ],
   "source": [
    "df3['total_sqft'].unique()"
   ]
  },
  {
   "cell_type": "markdown",
   "id": "5ca92a52",
   "metadata": {
    "papermill": {
     "duration": 0.069076,
     "end_time": "2022-05-12T11:33:07.607059",
     "exception": false,
     "start_time": "2022-05-12T11:33:07.537983",
     "status": "completed"
    },
    "tags": []
   },
   "source": [
    "**Here above we can see that apart from the exact values the ranges also exist eg:-  '1133 - 1384' , and we can convert them into exact values by taking the mean**"
   ]
  },
  {
   "cell_type": "code",
   "execution_count": 12,
   "id": "1efb1de4",
   "metadata": {
    "execution": {
     "iopub.execute_input": "2022-05-12T11:33:07.750669Z",
     "iopub.status.busy": "2022-05-12T11:33:07.749748Z",
     "iopub.status.idle": "2022-05-12T11:33:07.755169Z",
     "shell.execute_reply": "2022-05-12T11:33:07.754513Z"
    },
    "papermill": {
     "duration": 0.079919,
     "end_time": "2022-05-12T11:33:07.757205",
     "exception": false,
     "start_time": "2022-05-12T11:33:07.677286",
     "status": "completed"
    },
    "tags": []
   },
   "outputs": [],
   "source": [
    "# creating the is_float function to check the data in the column is float or not, using it to print non float values like ranges\n",
    "def is_float(x):\n",
    "    try:\n",
    "        float(x)\n",
    "    except:\n",
    "        return False\n",
    "    return True"
   ]
  },
  {
   "cell_type": "code",
   "execution_count": 13,
   "id": "3eced4b1",
   "metadata": {
    "execution": {
     "iopub.execute_input": "2022-05-12T11:33:07.901580Z",
     "iopub.status.busy": "2022-05-12T11:33:07.900345Z",
     "iopub.status.idle": "2022-05-12T11:33:07.925143Z",
     "shell.execute_reply": "2022-05-12T11:33:07.924285Z"
    },
    "papermill": {
     "duration": 0.098925,
     "end_time": "2022-05-12T11:33:07.927269",
     "exception": false,
     "start_time": "2022-05-12T11:33:07.828344",
     "status": "completed"
    },
    "tags": []
   },
   "outputs": [
    {
     "data": {
      "text/html": [
       "<div>\n",
       "<style scoped>\n",
       "    .dataframe tbody tr th:only-of-type {\n",
       "        vertical-align: middle;\n",
       "    }\n",
       "\n",
       "    .dataframe tbody tr th {\n",
       "        vertical-align: top;\n",
       "    }\n",
       "\n",
       "    .dataframe thead th {\n",
       "        text-align: right;\n",
       "    }\n",
       "</style>\n",
       "<table border=\"1\" class=\"dataframe\">\n",
       "  <thead>\n",
       "    <tr style=\"text-align: right;\">\n",
       "      <th></th>\n",
       "      <th>location</th>\n",
       "      <th>size</th>\n",
       "      <th>total_sqft</th>\n",
       "      <th>bath</th>\n",
       "      <th>price</th>\n",
       "      <th>bhk</th>\n",
       "    </tr>\n",
       "  </thead>\n",
       "  <tbody>\n",
       "    <tr>\n",
       "      <th>30</th>\n",
       "      <td>Yelahanka</td>\n",
       "      <td>4 BHK</td>\n",
       "      <td>2100 - 2850</td>\n",
       "      <td>4.0</td>\n",
       "      <td>186.000</td>\n",
       "      <td>4</td>\n",
       "    </tr>\n",
       "    <tr>\n",
       "      <th>122</th>\n",
       "      <td>Hebbal</td>\n",
       "      <td>4 BHK</td>\n",
       "      <td>3067 - 8156</td>\n",
       "      <td>4.0</td>\n",
       "      <td>477.000</td>\n",
       "      <td>4</td>\n",
       "    </tr>\n",
       "    <tr>\n",
       "      <th>137</th>\n",
       "      <td>8th Phase JP Nagar</td>\n",
       "      <td>2 BHK</td>\n",
       "      <td>1042 - 1105</td>\n",
       "      <td>2.0</td>\n",
       "      <td>54.005</td>\n",
       "      <td>2</td>\n",
       "    </tr>\n",
       "    <tr>\n",
       "      <th>165</th>\n",
       "      <td>Sarjapur</td>\n",
       "      <td>2 BHK</td>\n",
       "      <td>1145 - 1340</td>\n",
       "      <td>2.0</td>\n",
       "      <td>43.490</td>\n",
       "      <td>2</td>\n",
       "    </tr>\n",
       "    <tr>\n",
       "      <th>188</th>\n",
       "      <td>KR Puram</td>\n",
       "      <td>2 BHK</td>\n",
       "      <td>1015 - 1540</td>\n",
       "      <td>2.0</td>\n",
       "      <td>56.800</td>\n",
       "      <td>2</td>\n",
       "    </tr>\n",
       "    <tr>\n",
       "      <th>...</th>\n",
       "      <td>...</td>\n",
       "      <td>...</td>\n",
       "      <td>...</td>\n",
       "      <td>...</td>\n",
       "      <td>...</td>\n",
       "      <td>...</td>\n",
       "    </tr>\n",
       "    <tr>\n",
       "      <th>12975</th>\n",
       "      <td>Whitefield</td>\n",
       "      <td>2 BHK</td>\n",
       "      <td>850 - 1060</td>\n",
       "      <td>2.0</td>\n",
       "      <td>38.190</td>\n",
       "      <td>2</td>\n",
       "    </tr>\n",
       "    <tr>\n",
       "      <th>12990</th>\n",
       "      <td>Talaghattapura</td>\n",
       "      <td>3 BHK</td>\n",
       "      <td>1804 - 2273</td>\n",
       "      <td>3.0</td>\n",
       "      <td>122.000</td>\n",
       "      <td>3</td>\n",
       "    </tr>\n",
       "    <tr>\n",
       "      <th>13059</th>\n",
       "      <td>Harlur</td>\n",
       "      <td>2 BHK</td>\n",
       "      <td>1200 - 1470</td>\n",
       "      <td>2.0</td>\n",
       "      <td>72.760</td>\n",
       "      <td>2</td>\n",
       "    </tr>\n",
       "    <tr>\n",
       "      <th>13265</th>\n",
       "      <td>Hoodi</td>\n",
       "      <td>2 BHK</td>\n",
       "      <td>1133 - 1384</td>\n",
       "      <td>2.0</td>\n",
       "      <td>59.135</td>\n",
       "      <td>2</td>\n",
       "    </tr>\n",
       "    <tr>\n",
       "      <th>13299</th>\n",
       "      <td>Whitefield</td>\n",
       "      <td>4 BHK</td>\n",
       "      <td>2830 - 2882</td>\n",
       "      <td>5.0</td>\n",
       "      <td>154.500</td>\n",
       "      <td>4</td>\n",
       "    </tr>\n",
       "  </tbody>\n",
       "</table>\n",
       "<p>190 rows × 6 columns</p>\n",
       "</div>"
      ],
      "text/plain": [
       "                 location   size   total_sqft  bath    price  bhk\n",
       "30              Yelahanka  4 BHK  2100 - 2850   4.0  186.000    4\n",
       "122                Hebbal  4 BHK  3067 - 8156   4.0  477.000    4\n",
       "137    8th Phase JP Nagar  2 BHK  1042 - 1105   2.0   54.005    2\n",
       "165              Sarjapur  2 BHK  1145 - 1340   2.0   43.490    2\n",
       "188              KR Puram  2 BHK  1015 - 1540   2.0   56.800    2\n",
       "...                   ...    ...          ...   ...      ...  ...\n",
       "12975          Whitefield  2 BHK   850 - 1060   2.0   38.190    2\n",
       "12990      Talaghattapura  3 BHK  1804 - 2273   3.0  122.000    3\n",
       "13059              Harlur  2 BHK  1200 - 1470   2.0   72.760    2\n",
       "13265               Hoodi  2 BHK  1133 - 1384   2.0   59.135    2\n",
       "13299          Whitefield  4 BHK  2830 - 2882   5.0  154.500    4\n",
       "\n",
       "[190 rows x 6 columns]"
      ]
     },
     "execution_count": 13,
     "metadata": {},
     "output_type": "execute_result"
    }
   ],
   "source": [
    "df3[~df3['total_sqft'].apply(is_float)]   # prints non float data"
   ]
  },
  {
   "cell_type": "code",
   "execution_count": 14,
   "id": "141e9516",
   "metadata": {
    "execution": {
     "iopub.execute_input": "2022-05-12T11:33:08.071106Z",
     "iopub.status.busy": "2022-05-12T11:33:08.070203Z",
     "iopub.status.idle": "2022-05-12T11:33:08.076054Z",
     "shell.execute_reply": "2022-05-12T11:33:08.075092Z"
    },
    "papermill": {
     "duration": 0.080626,
     "end_time": "2022-05-12T11:33:08.078467",
     "exception": false,
     "start_time": "2022-05-12T11:33:07.997841",
     "status": "completed"
    },
    "tags": []
   },
   "outputs": [],
   "source": [
    "def convert_range_to_num(x):\n",
    "    tokens = x.split('-')\n",
    "    if len(tokens) == 2:\n",
    "        return (float(tokens[0]) + float(tokens[1]))/2\n",
    "    \n",
    "    try:\n",
    "        return float(x)\n",
    "    except:\n",
    "        return None"
   ]
  },
  {
   "cell_type": "code",
   "execution_count": 15,
   "id": "1cbcbab3",
   "metadata": {
    "execution": {
     "iopub.execute_input": "2022-05-12T11:33:08.221437Z",
     "iopub.status.busy": "2022-05-12T11:33:08.221133Z",
     "iopub.status.idle": "2022-05-12T11:33:08.226853Z",
     "shell.execute_reply": "2022-05-12T11:33:08.225793Z"
    },
    "papermill": {
     "duration": 0.079699,
     "end_time": "2022-05-12T11:33:08.229065",
     "exception": false,
     "start_time": "2022-05-12T11:33:08.149366",
     "status": "completed"
    },
    "tags": []
   },
   "outputs": [
    {
     "data": {
      "text/plain": [
       "3.25"
      ]
     },
     "execution_count": 15,
     "metadata": {},
     "output_type": "execute_result"
    }
   ],
   "source": [
    "convert_range_to_num('2 - 4.5')"
   ]
  },
  {
   "cell_type": "code",
   "execution_count": 16,
   "id": "49904145",
   "metadata": {
    "execution": {
     "iopub.execute_input": "2022-05-12T11:33:08.375158Z",
     "iopub.status.busy": "2022-05-12T11:33:08.374726Z",
     "iopub.status.idle": "2022-05-12T11:33:08.394492Z",
     "shell.execute_reply": "2022-05-12T11:33:08.393738Z"
    },
    "papermill": {
     "duration": 0.094816,
     "end_time": "2022-05-12T11:33:08.396773",
     "exception": false,
     "start_time": "2022-05-12T11:33:08.301957",
     "status": "completed"
    },
    "tags": []
   },
   "outputs": [],
   "source": [
    "df4 = df3.copy()     # copy(): changes made on df4 will not reflect on df3\n",
    "df4['total_sqft'] = df4['total_sqft'].apply(lambda x : convert_range_to_num(x))\n"
   ]
  },
  {
   "cell_type": "code",
   "execution_count": 17,
   "id": "105cc60e",
   "metadata": {
    "execution": {
     "iopub.execute_input": "2022-05-12T11:33:08.540649Z",
     "iopub.status.busy": "2022-05-12T11:33:08.540307Z",
     "iopub.status.idle": "2022-05-12T11:33:08.556442Z",
     "shell.execute_reply": "2022-05-12T11:33:08.555611Z"
    },
    "papermill": {
     "duration": 0.090492,
     "end_time": "2022-05-12T11:33:08.558746",
     "exception": false,
     "start_time": "2022-05-12T11:33:08.468254",
     "status": "completed"
    },
    "tags": []
   },
   "outputs": [
    {
     "data": {
      "text/html": [
       "<div>\n",
       "<style scoped>\n",
       "    .dataframe tbody tr th:only-of-type {\n",
       "        vertical-align: middle;\n",
       "    }\n",
       "\n",
       "    .dataframe tbody tr th {\n",
       "        vertical-align: top;\n",
       "    }\n",
       "\n",
       "    .dataframe thead th {\n",
       "        text-align: right;\n",
       "    }\n",
       "</style>\n",
       "<table border=\"1\" class=\"dataframe\">\n",
       "  <thead>\n",
       "    <tr style=\"text-align: right;\">\n",
       "      <th></th>\n",
       "      <th>location</th>\n",
       "      <th>size</th>\n",
       "      <th>total_sqft</th>\n",
       "      <th>bath</th>\n",
       "      <th>price</th>\n",
       "      <th>bhk</th>\n",
       "    </tr>\n",
       "  </thead>\n",
       "  <tbody>\n",
       "  </tbody>\n",
       "</table>\n",
       "</div>"
      ],
      "text/plain": [
       "Empty DataFrame\n",
       "Columns: [location, size, total_sqft, bath, price, bhk]\n",
       "Index: []"
      ]
     },
     "execution_count": 17,
     "metadata": {},
     "output_type": "execute_result"
    }
   ],
   "source": [
    "df4[~df4['total_sqft'].apply(is_float)] "
   ]
  },
  {
   "cell_type": "code",
   "execution_count": 18,
   "id": "46a6c095",
   "metadata": {
    "execution": {
     "iopub.execute_input": "2022-05-12T11:33:08.702713Z",
     "iopub.status.busy": "2022-05-12T11:33:08.702454Z",
     "iopub.status.idle": "2022-05-12T11:33:08.715325Z",
     "shell.execute_reply": "2022-05-12T11:33:08.714473Z"
    },
    "papermill": {
     "duration": 0.087323,
     "end_time": "2022-05-12T11:33:08.717712",
     "exception": false,
     "start_time": "2022-05-12T11:33:08.630389",
     "status": "completed"
    },
    "tags": []
   },
   "outputs": [
    {
     "data": {
      "text/html": [
       "<div>\n",
       "<style scoped>\n",
       "    .dataframe tbody tr th:only-of-type {\n",
       "        vertical-align: middle;\n",
       "    }\n",
       "\n",
       "    .dataframe tbody tr th {\n",
       "        vertical-align: top;\n",
       "    }\n",
       "\n",
       "    .dataframe thead th {\n",
       "        text-align: right;\n",
       "    }\n",
       "</style>\n",
       "<table border=\"1\" class=\"dataframe\">\n",
       "  <thead>\n",
       "    <tr style=\"text-align: right;\">\n",
       "      <th></th>\n",
       "      <th>location</th>\n",
       "      <th>size</th>\n",
       "      <th>total_sqft</th>\n",
       "      <th>bath</th>\n",
       "      <th>price</th>\n",
       "      <th>bhk</th>\n",
       "    </tr>\n",
       "  </thead>\n",
       "  <tbody>\n",
       "    <tr>\n",
       "      <th>0</th>\n",
       "      <td>Electronic City Phase II</td>\n",
       "      <td>2 BHK</td>\n",
       "      <td>1056.0</td>\n",
       "      <td>2.0</td>\n",
       "      <td>39.07</td>\n",
       "      <td>2</td>\n",
       "    </tr>\n",
       "    <tr>\n",
       "      <th>1</th>\n",
       "      <td>Chikka Tirupathi</td>\n",
       "      <td>4 Bedroom</td>\n",
       "      <td>2600.0</td>\n",
       "      <td>5.0</td>\n",
       "      <td>120.00</td>\n",
       "      <td>4</td>\n",
       "    </tr>\n",
       "    <tr>\n",
       "      <th>2</th>\n",
       "      <td>Uttarahalli</td>\n",
       "      <td>3 BHK</td>\n",
       "      <td>1440.0</td>\n",
       "      <td>2.0</td>\n",
       "      <td>62.00</td>\n",
       "      <td>3</td>\n",
       "    </tr>\n",
       "    <tr>\n",
       "      <th>3</th>\n",
       "      <td>Lingadheeranahalli</td>\n",
       "      <td>3 BHK</td>\n",
       "      <td>1521.0</td>\n",
       "      <td>3.0</td>\n",
       "      <td>95.00</td>\n",
       "      <td>3</td>\n",
       "    </tr>\n",
       "    <tr>\n",
       "      <th>4</th>\n",
       "      <td>Kothanur</td>\n",
       "      <td>2 BHK</td>\n",
       "      <td>1200.0</td>\n",
       "      <td>2.0</td>\n",
       "      <td>51.00</td>\n",
       "      <td>2</td>\n",
       "    </tr>\n",
       "  </tbody>\n",
       "</table>\n",
       "</div>"
      ],
      "text/plain": [
       "                   location       size  total_sqft  bath   price  bhk\n",
       "0  Electronic City Phase II      2 BHK      1056.0   2.0   39.07    2\n",
       "1          Chikka Tirupathi  4 Bedroom      2600.0   5.0  120.00    4\n",
       "2               Uttarahalli      3 BHK      1440.0   2.0   62.00    3\n",
       "3        Lingadheeranahalli      3 BHK      1521.0   3.0   95.00    3\n",
       "4                  Kothanur      2 BHK      1200.0   2.0   51.00    2"
      ]
     },
     "execution_count": 18,
     "metadata": {},
     "output_type": "execute_result"
    }
   ],
   "source": [
    "df4.head()"
   ]
  },
  {
   "cell_type": "markdown",
   "id": "819c5b5d",
   "metadata": {
    "papermill": {
     "duration": 0.073801,
     "end_time": "2022-05-12T11:33:08.865013",
     "exception": false,
     "start_time": "2022-05-12T11:33:08.791212",
     "status": "completed"
    },
    "tags": []
   },
   "source": [
    "**Adding new feature price per square feet**"
   ]
  },
  {
   "cell_type": "code",
   "execution_count": 19,
   "id": "a127be2f",
   "metadata": {
    "execution": {
     "iopub.execute_input": "2022-05-12T11:33:09.013757Z",
     "iopub.status.busy": "2022-05-12T11:33:09.012909Z",
     "iopub.status.idle": "2022-05-12T11:33:09.029012Z",
     "shell.execute_reply": "2022-05-12T11:33:09.028266Z"
    },
    "papermill": {
     "duration": 0.093764,
     "end_time": "2022-05-12T11:33:09.031274",
     "exception": false,
     "start_time": "2022-05-12T11:33:08.937510",
     "status": "completed"
    },
    "tags": []
   },
   "outputs": [
    {
     "data": {
      "text/html": [
       "<div>\n",
       "<style scoped>\n",
       "    .dataframe tbody tr th:only-of-type {\n",
       "        vertical-align: middle;\n",
       "    }\n",
       "\n",
       "    .dataframe tbody tr th {\n",
       "        vertical-align: top;\n",
       "    }\n",
       "\n",
       "    .dataframe thead th {\n",
       "        text-align: right;\n",
       "    }\n",
       "</style>\n",
       "<table border=\"1\" class=\"dataframe\">\n",
       "  <thead>\n",
       "    <tr style=\"text-align: right;\">\n",
       "      <th></th>\n",
       "      <th>location</th>\n",
       "      <th>size</th>\n",
       "      <th>total_sqft</th>\n",
       "      <th>bath</th>\n",
       "      <th>price</th>\n",
       "      <th>bhk</th>\n",
       "      <th>price_per_sqft</th>\n",
       "    </tr>\n",
       "  </thead>\n",
       "  <tbody>\n",
       "    <tr>\n",
       "      <th>0</th>\n",
       "      <td>Electronic City Phase II</td>\n",
       "      <td>2 BHK</td>\n",
       "      <td>1056.0</td>\n",
       "      <td>2.0</td>\n",
       "      <td>39.07</td>\n",
       "      <td>2</td>\n",
       "      <td>3699.810606</td>\n",
       "    </tr>\n",
       "    <tr>\n",
       "      <th>1</th>\n",
       "      <td>Chikka Tirupathi</td>\n",
       "      <td>4 Bedroom</td>\n",
       "      <td>2600.0</td>\n",
       "      <td>5.0</td>\n",
       "      <td>120.00</td>\n",
       "      <td>4</td>\n",
       "      <td>4615.384615</td>\n",
       "    </tr>\n",
       "    <tr>\n",
       "      <th>2</th>\n",
       "      <td>Uttarahalli</td>\n",
       "      <td>3 BHK</td>\n",
       "      <td>1440.0</td>\n",
       "      <td>2.0</td>\n",
       "      <td>62.00</td>\n",
       "      <td>3</td>\n",
       "      <td>4305.555556</td>\n",
       "    </tr>\n",
       "    <tr>\n",
       "      <th>3</th>\n",
       "      <td>Lingadheeranahalli</td>\n",
       "      <td>3 BHK</td>\n",
       "      <td>1521.0</td>\n",
       "      <td>3.0</td>\n",
       "      <td>95.00</td>\n",
       "      <td>3</td>\n",
       "      <td>6245.890861</td>\n",
       "    </tr>\n",
       "    <tr>\n",
       "      <th>4</th>\n",
       "      <td>Kothanur</td>\n",
       "      <td>2 BHK</td>\n",
       "      <td>1200.0</td>\n",
       "      <td>2.0</td>\n",
       "      <td>51.00</td>\n",
       "      <td>2</td>\n",
       "      <td>4250.000000</td>\n",
       "    </tr>\n",
       "  </tbody>\n",
       "</table>\n",
       "</div>"
      ],
      "text/plain": [
       "                   location       size  total_sqft  bath   price  bhk  \\\n",
       "0  Electronic City Phase II      2 BHK      1056.0   2.0   39.07    2   \n",
       "1          Chikka Tirupathi  4 Bedroom      2600.0   5.0  120.00    4   \n",
       "2               Uttarahalli      3 BHK      1440.0   2.0   62.00    3   \n",
       "3        Lingadheeranahalli      3 BHK      1521.0   3.0   95.00    3   \n",
       "4                  Kothanur      2 BHK      1200.0   2.0   51.00    2   \n",
       "\n",
       "   price_per_sqft  \n",
       "0     3699.810606  \n",
       "1     4615.384615  \n",
       "2     4305.555556  \n",
       "3     6245.890861  \n",
       "4     4250.000000  "
      ]
     },
     "execution_count": 19,
     "metadata": {},
     "output_type": "execute_result"
    }
   ],
   "source": [
    "df5 = df4.copy()\n",
    "df5['price_per_sqft'] = df5['price']*100000/df5['total_sqft']\n",
    "df5.head()"
   ]
  },
  {
   "cell_type": "code",
   "execution_count": 20,
   "id": "e66ceada",
   "metadata": {
    "execution": {
     "iopub.execute_input": "2022-05-12T11:33:09.178792Z",
     "iopub.status.busy": "2022-05-12T11:33:09.178225Z",
     "iopub.status.idle": "2022-05-12T11:33:09.185551Z",
     "shell.execute_reply": "2022-05-12T11:33:09.184882Z"
    },
    "papermill": {
     "duration": 0.083366,
     "end_time": "2022-05-12T11:33:09.187594",
     "exception": false,
     "start_time": "2022-05-12T11:33:09.104228",
     "status": "completed"
    },
    "tags": []
   },
   "outputs": [
    {
     "data": {
      "text/plain": [
       "1304"
      ]
     },
     "execution_count": 20,
     "metadata": {},
     "output_type": "execute_result"
    }
   ],
   "source": [
    "len(df5.location.unique())"
   ]
  },
  {
   "cell_type": "code",
   "execution_count": 21,
   "id": "91fb1b9d",
   "metadata": {
    "execution": {
     "iopub.execute_input": "2022-05-12T11:33:09.335961Z",
     "iopub.status.busy": "2022-05-12T11:33:09.335427Z",
     "iopub.status.idle": "2022-05-12T11:33:09.347387Z",
     "shell.execute_reply": "2022-05-12T11:33:09.346269Z"
    },
    "papermill": {
     "duration": 0.08799,
     "end_time": "2022-05-12T11:33:09.349513",
     "exception": false,
     "start_time": "2022-05-12T11:33:09.261523",
     "status": "completed"
    },
    "tags": []
   },
   "outputs": [
    {
     "data": {
      "text/plain": [
       "1293"
      ]
     },
     "execution_count": 21,
     "metadata": {},
     "output_type": "execute_result"
    }
   ],
   "source": [
    "df5.location = df5.location.apply(lambda x : x.strip())   # removes the unnecessary space\n",
    "len(df5.location.unique())"
   ]
  },
  {
   "cell_type": "markdown",
   "id": "af8d65f1",
   "metadata": {
    "papermill": {
     "duration": 0.072096,
     "end_time": "2022-05-12T11:33:09.495601",
     "exception": false,
     "start_time": "2022-05-12T11:33:09.423505",
     "status": "completed"
    },
    "tags": []
   },
   "source": [
    "**Dimensionality Reduction**"
   ]
  },
  {
   "cell_type": "code",
   "execution_count": 22,
   "id": "dc653fbc",
   "metadata": {
    "execution": {
     "iopub.execute_input": "2022-05-12T11:33:09.642262Z",
     "iopub.status.busy": "2022-05-12T11:33:09.641596Z",
     "iopub.status.idle": "2022-05-12T11:33:09.654782Z",
     "shell.execute_reply": "2022-05-12T11:33:09.654119Z"
    },
    "papermill": {
     "duration": 0.08887,
     "end_time": "2022-05-12T11:33:09.656793",
     "exception": false,
     "start_time": "2022-05-12T11:33:09.567923",
     "status": "completed"
    },
    "tags": []
   },
   "outputs": [
    {
     "data": {
      "text/plain": [
       "location\n",
       "Whitefield               535\n",
       "Sarjapur  Road           392\n",
       "Electronic City          304\n",
       "Kanakpura Road           266\n",
       "Thanisandra              236\n",
       "                        ... \n",
       "1 Giri Nagar               1\n",
       "Kanakapura Road,           1\n",
       "Kanakapura main  Road      1\n",
       "Karnataka Shabarimala      1\n",
       "whitefiled                 1\n",
       "Name: location, Length: 1293, dtype: int64"
      ]
     },
     "execution_count": 22,
     "metadata": {},
     "output_type": "execute_result"
    }
   ],
   "source": [
    "location_stats = df5.groupby('location')['location'].agg('count').sort_values(ascending=False)\n",
    "location_stats"
   ]
  },
  {
   "cell_type": "code",
   "execution_count": 23,
   "id": "9d2ff610",
   "metadata": {
    "execution": {
     "iopub.execute_input": "2022-05-12T11:33:09.807864Z",
     "iopub.status.busy": "2022-05-12T11:33:09.807537Z",
     "iopub.status.idle": "2022-05-12T11:33:09.813640Z",
     "shell.execute_reply": "2022-05-12T11:33:09.812970Z"
    },
    "papermill": {
     "duration": 0.083705,
     "end_time": "2022-05-12T11:33:09.815718",
     "exception": false,
     "start_time": "2022-05-12T11:33:09.732013",
     "status": "completed"
    },
    "tags": []
   },
   "outputs": [
    {
     "data": {
      "text/plain": [
       "1052"
      ]
     },
     "execution_count": 23,
     "metadata": {},
     "output_type": "execute_result"
    }
   ],
   "source": [
    "len(location_stats[location_stats<=10])"
   ]
  },
  {
   "cell_type": "code",
   "execution_count": 24,
   "id": "ff605a74",
   "metadata": {
    "execution": {
     "iopub.execute_input": "2022-05-12T11:33:09.965092Z",
     "iopub.status.busy": "2022-05-12T11:33:09.964538Z",
     "iopub.status.idle": "2022-05-12T11:33:09.971867Z",
     "shell.execute_reply": "2022-05-12T11:33:09.971110Z"
    },
    "papermill": {
     "duration": 0.084388,
     "end_time": "2022-05-12T11:33:09.974059",
     "exception": false,
     "start_time": "2022-05-12T11:33:09.889671",
     "status": "completed"
    },
    "tags": []
   },
   "outputs": [
    {
     "data": {
      "text/plain": [
       "location\n",
       "Basapura                 10\n",
       "1st Block Koramangala    10\n",
       "Gunjur Palya             10\n",
       "Kalkere                  10\n",
       "Sector 1 HSR Layout      10\n",
       "                         ..\n",
       "1 Giri Nagar              1\n",
       "Kanakapura Road,          1\n",
       "Kanakapura main  Road     1\n",
       "Karnataka Shabarimala     1\n",
       "whitefiled                1\n",
       "Name: location, Length: 1052, dtype: int64"
      ]
     },
     "execution_count": 24,
     "metadata": {},
     "output_type": "execute_result"
    }
   ],
   "source": [
    "location_stats_less_then_10 = location_stats[location_stats<=10]\n",
    "location_stats_less_then_10"
   ]
  },
  {
   "cell_type": "code",
   "execution_count": 25,
   "id": "f0beceb0",
   "metadata": {
    "execution": {
     "iopub.execute_input": "2022-05-12T11:33:10.125302Z",
     "iopub.status.busy": "2022-05-12T11:33:10.124695Z",
     "iopub.status.idle": "2022-05-12T11:33:10.161935Z",
     "shell.execute_reply": "2022-05-12T11:33:10.161090Z"
    },
    "papermill": {
     "duration": 0.115119,
     "end_time": "2022-05-12T11:33:10.164280",
     "exception": false,
     "start_time": "2022-05-12T11:33:10.049161",
     "status": "completed"
    },
    "tags": []
   },
   "outputs": [
    {
     "data": {
      "text/html": [
       "<div>\n",
       "<style scoped>\n",
       "    .dataframe tbody tr th:only-of-type {\n",
       "        vertical-align: middle;\n",
       "    }\n",
       "\n",
       "    .dataframe tbody tr th {\n",
       "        vertical-align: top;\n",
       "    }\n",
       "\n",
       "    .dataframe thead th {\n",
       "        text-align: right;\n",
       "    }\n",
       "</style>\n",
       "<table border=\"1\" class=\"dataframe\">\n",
       "  <thead>\n",
       "    <tr style=\"text-align: right;\">\n",
       "      <th></th>\n",
       "      <th>location</th>\n",
       "      <th>size</th>\n",
       "      <th>total_sqft</th>\n",
       "      <th>bath</th>\n",
       "      <th>price</th>\n",
       "      <th>bhk</th>\n",
       "      <th>price_per_sqft</th>\n",
       "    </tr>\n",
       "  </thead>\n",
       "  <tbody>\n",
       "    <tr>\n",
       "      <th>0</th>\n",
       "      <td>Electronic City Phase II</td>\n",
       "      <td>2 BHK</td>\n",
       "      <td>1056.0</td>\n",
       "      <td>2.0</td>\n",
       "      <td>39.07</td>\n",
       "      <td>2</td>\n",
       "      <td>3699.810606</td>\n",
       "    </tr>\n",
       "    <tr>\n",
       "      <th>1</th>\n",
       "      <td>Chikka Tirupathi</td>\n",
       "      <td>4 Bedroom</td>\n",
       "      <td>2600.0</td>\n",
       "      <td>5.0</td>\n",
       "      <td>120.00</td>\n",
       "      <td>4</td>\n",
       "      <td>4615.384615</td>\n",
       "    </tr>\n",
       "    <tr>\n",
       "      <th>2</th>\n",
       "      <td>Uttarahalli</td>\n",
       "      <td>3 BHK</td>\n",
       "      <td>1440.0</td>\n",
       "      <td>2.0</td>\n",
       "      <td>62.00</td>\n",
       "      <td>3</td>\n",
       "      <td>4305.555556</td>\n",
       "    </tr>\n",
       "    <tr>\n",
       "      <th>3</th>\n",
       "      <td>Lingadheeranahalli</td>\n",
       "      <td>3 BHK</td>\n",
       "      <td>1521.0</td>\n",
       "      <td>3.0</td>\n",
       "      <td>95.00</td>\n",
       "      <td>3</td>\n",
       "      <td>6245.890861</td>\n",
       "    </tr>\n",
       "    <tr>\n",
       "      <th>4</th>\n",
       "      <td>Kothanur</td>\n",
       "      <td>2 BHK</td>\n",
       "      <td>1200.0</td>\n",
       "      <td>2.0</td>\n",
       "      <td>51.00</td>\n",
       "      <td>2</td>\n",
       "      <td>4250.000000</td>\n",
       "    </tr>\n",
       "    <tr>\n",
       "      <th>5</th>\n",
       "      <td>Whitefield</td>\n",
       "      <td>2 BHK</td>\n",
       "      <td>1170.0</td>\n",
       "      <td>2.0</td>\n",
       "      <td>38.00</td>\n",
       "      <td>2</td>\n",
       "      <td>3247.863248</td>\n",
       "    </tr>\n",
       "    <tr>\n",
       "      <th>6</th>\n",
       "      <td>Old Airport Road</td>\n",
       "      <td>4 BHK</td>\n",
       "      <td>2732.0</td>\n",
       "      <td>4.0</td>\n",
       "      <td>204.00</td>\n",
       "      <td>4</td>\n",
       "      <td>7467.057101</td>\n",
       "    </tr>\n",
       "    <tr>\n",
       "      <th>7</th>\n",
       "      <td>Rajaji Nagar</td>\n",
       "      <td>4 BHK</td>\n",
       "      <td>3300.0</td>\n",
       "      <td>4.0</td>\n",
       "      <td>600.00</td>\n",
       "      <td>4</td>\n",
       "      <td>18181.818182</td>\n",
       "    </tr>\n",
       "    <tr>\n",
       "      <th>8</th>\n",
       "      <td>Marathahalli</td>\n",
       "      <td>3 BHK</td>\n",
       "      <td>1310.0</td>\n",
       "      <td>3.0</td>\n",
       "      <td>63.25</td>\n",
       "      <td>3</td>\n",
       "      <td>4828.244275</td>\n",
       "    </tr>\n",
       "    <tr>\n",
       "      <th>9</th>\n",
       "      <td>other</td>\n",
       "      <td>6 Bedroom</td>\n",
       "      <td>1020.0</td>\n",
       "      <td>6.0</td>\n",
       "      <td>370.00</td>\n",
       "      <td>6</td>\n",
       "      <td>36274.509804</td>\n",
       "    </tr>\n",
       "  </tbody>\n",
       "</table>\n",
       "</div>"
      ],
      "text/plain": [
       "                   location       size  total_sqft  bath   price  bhk  \\\n",
       "0  Electronic City Phase II      2 BHK      1056.0   2.0   39.07    2   \n",
       "1          Chikka Tirupathi  4 Bedroom      2600.0   5.0  120.00    4   \n",
       "2               Uttarahalli      3 BHK      1440.0   2.0   62.00    3   \n",
       "3        Lingadheeranahalli      3 BHK      1521.0   3.0   95.00    3   \n",
       "4                  Kothanur      2 BHK      1200.0   2.0   51.00    2   \n",
       "5                Whitefield      2 BHK      1170.0   2.0   38.00    2   \n",
       "6          Old Airport Road      4 BHK      2732.0   4.0  204.00    4   \n",
       "7              Rajaji Nagar      4 BHK      3300.0   4.0  600.00    4   \n",
       "8              Marathahalli      3 BHK      1310.0   3.0   63.25    3   \n",
       "9                     other  6 Bedroom      1020.0   6.0  370.00    6   \n",
       "\n",
       "   price_per_sqft  \n",
       "0     3699.810606  \n",
       "1     4615.384615  \n",
       "2     4305.555556  \n",
       "3     6245.890861  \n",
       "4     4250.000000  \n",
       "5     3247.863248  \n",
       "6     7467.057101  \n",
       "7    18181.818182  \n",
       "8     4828.244275  \n",
       "9    36274.509804  "
      ]
     },
     "execution_count": 25,
     "metadata": {},
     "output_type": "execute_result"
    }
   ],
   "source": [
    "df5.location = df5.location.apply(lambda x : 'other' if x in location_stats_less_then_10 else x)\n",
    "df5.head(10)"
   ]
  },
  {
   "cell_type": "code",
   "execution_count": 26,
   "id": "ab6a2293",
   "metadata": {
    "execution": {
     "iopub.execute_input": "2022-05-12T11:33:10.315564Z",
     "iopub.status.busy": "2022-05-12T11:33:10.315265Z",
     "iopub.status.idle": "2022-05-12T11:33:10.322776Z",
     "shell.execute_reply": "2022-05-12T11:33:10.321762Z"
    },
    "papermill": {
     "duration": 0.086137,
     "end_time": "2022-05-12T11:33:10.324805",
     "exception": false,
     "start_time": "2022-05-12T11:33:10.238668",
     "status": "completed"
    },
    "tags": []
   },
   "outputs": [
    {
     "data": {
      "text/plain": [
       "242"
      ]
     },
     "execution_count": 26,
     "metadata": {},
     "output_type": "execute_result"
    }
   ],
   "source": [
    "len(df5.location.unique())"
   ]
  },
  {
   "cell_type": "markdown",
   "id": "5e1fb305",
   "metadata": {
    "papermill": {
     "duration": 0.076904,
     "end_time": "2022-05-12T11:33:10.479394",
     "exception": false,
     "start_time": "2022-05-12T11:33:10.402490",
     "status": "completed"
    },
    "tags": []
   },
   "source": [
    "# **Outlier removal**"
   ]
  },
  {
   "cell_type": "code",
   "execution_count": 27,
   "id": "6990ded3",
   "metadata": {
    "execution": {
     "iopub.execute_input": "2022-05-12T11:33:10.633602Z",
     "iopub.status.busy": "2022-05-12T11:33:10.633076Z",
     "iopub.status.idle": "2022-05-12T11:33:10.637751Z",
     "shell.execute_reply": "2022-05-12T11:33:10.637138Z"
    },
    "papermill": {
     "duration": 0.08442,
     "end_time": "2022-05-12T11:33:10.639739",
     "exception": false,
     "start_time": "2022-05-12T11:33:10.555319",
     "status": "completed"
    },
    "tags": []
   },
   "outputs": [
    {
     "data": {
      "text/plain": [
       "(13246, 7)"
      ]
     },
     "execution_count": 27,
     "metadata": {},
     "output_type": "execute_result"
    }
   ],
   "source": [
    "df5.shape"
   ]
  },
  {
   "cell_type": "code",
   "execution_count": 28,
   "id": "ad3cd817",
   "metadata": {
    "execution": {
     "iopub.execute_input": "2022-05-12T11:33:10.800888Z",
     "iopub.status.busy": "2022-05-12T11:33:10.800215Z",
     "iopub.status.idle": "2022-05-12T11:33:10.808361Z",
     "shell.execute_reply": "2022-05-12T11:33:10.807531Z"
    },
    "papermill": {
     "duration": 0.093736,
     "end_time": "2022-05-12T11:33:10.810381",
     "exception": false,
     "start_time": "2022-05-12T11:33:10.716645",
     "status": "completed"
    },
    "tags": []
   },
   "outputs": [
    {
     "data": {
      "text/plain": [
       "(12502, 7)"
      ]
     },
     "execution_count": 28,
     "metadata": {},
     "output_type": "execute_result"
    }
   ],
   "source": [
    "df6 = df5[~(df5.total_sqft/df5.bhk < 300)]\n",
    "df6.shape"
   ]
  },
  {
   "cell_type": "markdown",
   "id": "f3ee26fe",
   "metadata": {
    "papermill": {
     "duration": 0.076718,
     "end_time": "2022-05-12T11:33:10.966888",
     "exception": false,
     "start_time": "2022-05-12T11:33:10.890170",
     "status": "completed"
    },
    "tags": []
   },
   "source": [
    "**Removing outliers using mean and std**"
   ]
  },
  {
   "cell_type": "code",
   "execution_count": 29,
   "id": "b2aae069",
   "metadata": {
    "execution": {
     "iopub.execute_input": "2022-05-12T11:33:11.123492Z",
     "iopub.status.busy": "2022-05-12T11:33:11.121912Z",
     "iopub.status.idle": "2022-05-12T11:33:11.139293Z",
     "shell.execute_reply": "2022-05-12T11:33:11.138440Z"
    },
    "papermill": {
     "duration": 0.098432,
     "end_time": "2022-05-12T11:33:11.141615",
     "exception": false,
     "start_time": "2022-05-12T11:33:11.043183",
     "status": "completed"
    },
    "tags": []
   },
   "outputs": [
    {
     "data": {
      "text/plain": [
       "count     12456.000000\n",
       "mean       6308.502826\n",
       "std        4168.127339\n",
       "min         267.829813\n",
       "25%        4210.526316\n",
       "50%        5294.117647\n",
       "75%        6916.666667\n",
       "max      176470.588235\n",
       "Name: price_per_sqft, dtype: float64"
      ]
     },
     "execution_count": 29,
     "metadata": {},
     "output_type": "execute_result"
    }
   ],
   "source": [
    "df6.price_per_sqft.describe()"
   ]
  },
  {
   "cell_type": "code",
   "execution_count": 30,
   "id": "56964048",
   "metadata": {
    "execution": {
     "iopub.execute_input": "2022-05-12T11:33:11.298852Z",
     "iopub.status.busy": "2022-05-12T11:33:11.298074Z",
     "iopub.status.idle": "2022-05-12T11:33:11.806064Z",
     "shell.execute_reply": "2022-05-12T11:33:11.804762Z"
    },
    "papermill": {
     "duration": 0.5894,
     "end_time": "2022-05-12T11:33:11.808338",
     "exception": false,
     "start_time": "2022-05-12T11:33:11.218938",
     "status": "completed"
    },
    "tags": []
   },
   "outputs": [
    {
     "data": {
      "text/plain": [
       "(10241, 7)"
      ]
     },
     "execution_count": 30,
     "metadata": {},
     "output_type": "execute_result"
    }
   ],
   "source": [
    "def remove_pps_outliers(df):\n",
    "    df_out = pd.DataFrame()\n",
    "    for key, subdf in df.groupby('location'):\n",
    "        m = np.mean(subdf.price_per_sqft)\n",
    "        st = np.std(subdf.price_per_sqft)\n",
    "        reduced_df = subdf[(subdf.price_per_sqft>(m-st)) & (subdf.price_per_sqft<=(m+st))]\n",
    "        df_out = pd.concat([df_out,reduced_df], ignore_index = True)\n",
    "    return df_out\n",
    "        \n",
    "df7 = remove_pps_outliers(df6)\n",
    "df7.shape"
   ]
  },
  {
   "cell_type": "code",
   "execution_count": 31,
   "id": "d84ee297",
   "metadata": {
    "execution": {
     "iopub.execute_input": "2022-05-12T11:33:11.965433Z",
     "iopub.status.busy": "2022-05-12T11:33:11.965108Z",
     "iopub.status.idle": "2022-05-12T11:33:12.350443Z",
     "shell.execute_reply": "2022-05-12T11:33:12.349273Z"
    },
    "papermill": {
     "duration": 0.466458,
     "end_time": "2022-05-12T11:33:12.352731",
     "exception": false,
     "start_time": "2022-05-12T11:33:11.886273",
     "status": "completed"
    },
    "tags": []
   },
   "outputs": [
    {
     "data": {
      "image/png": "[encoded data removed]",
      "text/plain": [
       "<Figure size 720x504 with 1 Axes>"
      ]
     },
     "metadata": {
      "needs_background": "light"
     },
     "output_type": "display_data"
    }
   ],
   "source": [
    "def plot_scatter_plot(df,location):\n",
    "    df_bhk2 = df[(df.location == location) & (df.bhk == 2)]\n",
    "    df_bhk3 = df[(df.location == location) & (df.bhk == 3)]\n",
    "    \n",
    "    plt.rcParams[\"figure.figsize\"] = (10,7)\n",
    "    plt.scatter(df_bhk2.total_sqft,df_bhk2.price, color='red')\n",
    "    plt.scatter(df_bhk3.total_sqft,df_bhk3.price, color='blue')\n",
    "    plt.xlabel(\"Total sq feet\")\n",
    "    plt.ylabel(\"Price in lakh\")\n",
    "    \n",
    "plot_scatter_plot(df7, \"Marathahalli\")"
   ]
  },
  {
   "cell_type": "markdown",
   "id": "e64628dc",
   "metadata": {
    "papermill": {
     "duration": 0.077791,
     "end_time": "2022-05-12T11:33:12.509455",
     "exception": false,
     "start_time": "2022-05-12T11:33:12.431664",
     "status": "completed"
    },
    "tags": []
   },
   "source": [
    "**Removing m bhk apartment whose price/sqfeet value is less than the mean of (m-1)bhk apartments**"
   ]
  },
  {
   "cell_type": "code",
   "execution_count": 32,
   "id": "21916a4b",
   "metadata": {
    "execution": {
     "iopub.execute_input": "2022-05-12T11:33:12.668652Z",
     "iopub.status.busy": "2022-05-12T11:33:12.667999Z",
     "iopub.status.idle": "2022-05-12T11:33:13.368433Z",
     "shell.execute_reply": "2022-05-12T11:33:13.367635Z"
    },
    "papermill": {
     "duration": 0.782784,
     "end_time": "2022-05-12T11:33:13.370482",
     "exception": false,
     "start_time": "2022-05-12T11:33:12.587698",
     "status": "completed"
    },
    "tags": []
   },
   "outputs": [
    {
     "data": {
      "text/plain": [
       "(7329, 7)"
      ]
     },
     "execution_count": 32,
     "metadata": {},
     "output_type": "execute_result"
    }
   ],
   "source": [
    "def remove_bhk_outliers(df):\n",
    "    exclude_indices = np.array([])\n",
    "    for location, location_df in df.groupby('location'):\n",
    "        bhk_stats = {}\n",
    "        for bhk, bhk_df in location_df.groupby('bhk'):\n",
    "            bhk_stats[bhk] = {\n",
    "                'mean': np.mean(bhk_df.price_per_sqft),\n",
    "                'std':  np.mean(bhk_df.price_per_sqft),\n",
    "                'count': bhk_df.shape[0]\n",
    "            }\n",
    "            \n",
    "        for bhk, bhk_df in location_df.groupby('bhk'):\n",
    "            stats = bhk_stats.get(bhk-1)            \n",
    "            if stats and stats['count']>5:\n",
    "                exclude_indices = np.append(exclude_indices, bhk_df[bhk_df.price_per_sqft<(stats['mean'])].index.values)\n",
    "                \n",
    "    return df.drop(exclude_indices,axis='index')\n",
    "\n",
    "df8 = remove_bhk_outliers(df7)\n",
    "df8.shape"
   ]
  },
  {
   "cell_type": "code",
   "execution_count": 33,
   "id": "a6f25195",
   "metadata": {
    "execution": {
     "iopub.execute_input": "2022-05-12T11:33:13.529242Z",
     "iopub.status.busy": "2022-05-12T11:33:13.528924Z",
     "iopub.status.idle": "2022-05-12T11:33:13.758328Z",
     "shell.execute_reply": "2022-05-12T11:33:13.757434Z"
    },
    "papermill": {
     "duration": 0.311525,
     "end_time": "2022-05-12T11:33:13.760710",
     "exception": false,
     "start_time": "2022-05-12T11:33:13.449185",
     "status": "completed"
    },
    "tags": []
   },
   "outputs": [
    {
     "data": {
      "image/png": "[encoded data removed]",
      "text/plain": [
       "<Figure size 720x504 with 1 Axes>"
      ]
     },
     "metadata": {
      "needs_background": "light"
     },
     "output_type": "display_data"
    }
   ],
   "source": [
    " plot_scatter_plot(df8, \"Marathahalli\")"
   ]
  },
  {
   "cell_type": "code",
   "execution_count": 34,
   "id": "a4f27d1f",
   "metadata": {
    "execution": {
     "iopub.execute_input": "2022-05-12T11:33:13.921974Z",
     "iopub.status.busy": "2022-05-12T11:33:13.921580Z",
     "iopub.status.idle": "2022-05-12T11:33:14.157846Z",
     "shell.execute_reply": "2022-05-12T11:33:14.156746Z"
    },
    "papermill": {
     "duration": 0.319452,
     "end_time": "2022-05-12T11:33:14.160188",
     "exception": false,
     "start_time": "2022-05-12T11:33:13.840736",
     "status": "completed"
    },
    "tags": []
   },
   "outputs": [
    {
     "data": {
      "text/plain": [
       "Text(0, 0.5, 'Count')"
      ]
     },
     "execution_count": 34,
     "metadata": {},
     "output_type": "execute_result"
    },
    {
     "data": {
      "image/png": "[encoded data removed]",
      "text/plain": [
       "<Figure size 720x504 with 1 Axes>"
      ]
     },
     "metadata": {
      "needs_background": "light"
     },
     "output_type": "display_data"
    }
   ],
   "source": [
    "plt.hist(df8.price_per_sqft, rwidth = 0.7)\n",
    "plt.xlabel(\"Price per Square feet\")\n",
    "plt.ylabel(\"Count\")"
   ]
  },
  {
   "cell_type": "markdown",
   "id": "5d5ab24d",
   "metadata": {
    "papermill": {
     "duration": 0.080237,
     "end_time": "2022-05-12T11:33:14.339675",
     "exception": false,
     "start_time": "2022-05-12T11:33:14.259438",
     "status": "completed"
    },
    "tags": []
   },
   "source": [
    "Here above we can analyze that our data is normally distributed as it has bell shaped curve"
   ]
  },
  {
   "cell_type": "code",
   "execution_count": 35,
   "id": "7af585fa",
   "metadata": {
    "execution": {
     "iopub.execute_input": "2022-05-12T11:33:14.502015Z",
     "iopub.status.busy": "2022-05-12T11:33:14.501737Z",
     "iopub.status.idle": "2022-05-12T11:33:14.508343Z",
     "shell.execute_reply": "2022-05-12T11:33:14.507531Z"
    },
    "papermill": {
     "duration": 0.090522,
     "end_time": "2022-05-12T11:33:14.510499",
     "exception": false,
     "start_time": "2022-05-12T11:33:14.419977",
     "status": "completed"
    },
    "tags": []
   },
   "outputs": [
    {
     "data": {
      "text/plain": [
       "array([ 4.,  3.,  2.,  5.,  8.,  1.,  6.,  7.,  9., 12., 16., 13.])"
      ]
     },
     "execution_count": 35,
     "metadata": {},
     "output_type": "execute_result"
    }
   ],
   "source": [
    "# Now lets analyze 'bath' feature of the dataset\n",
    "df8.bath.unique()"
   ]
  },
  {
   "cell_type": "code",
   "execution_count": 36,
   "id": "b7f40ac0",
   "metadata": {
    "execution": {
     "iopub.execute_input": "2022-05-12T11:33:14.676171Z",
     "iopub.status.busy": "2022-05-12T11:33:14.675226Z",
     "iopub.status.idle": "2022-05-12T11:33:14.696332Z",
     "shell.execute_reply": "2022-05-12T11:33:14.695502Z"
    },
    "papermill": {
     "duration": 0.106371,
     "end_time": "2022-05-12T11:33:14.698385",
     "exception": false,
     "start_time": "2022-05-12T11:33:14.592014",
     "status": "completed"
    },
    "tags": []
   },
   "outputs": [
    {
     "data": {
      "text/html": [
       "<div>\n",
       "<style scoped>\n",
       "    .dataframe tbody tr th:only-of-type {\n",
       "        vertical-align: middle;\n",
       "    }\n",
       "\n",
       "    .dataframe tbody tr th {\n",
       "        vertical-align: top;\n",
       "    }\n",
       "\n",
       "    .dataframe thead th {\n",
       "        text-align: right;\n",
       "    }\n",
       "</style>\n",
       "<table border=\"1\" class=\"dataframe\">\n",
       "  <thead>\n",
       "    <tr style=\"text-align: right;\">\n",
       "      <th></th>\n",
       "      <th>location</th>\n",
       "      <th>size</th>\n",
       "      <th>total_sqft</th>\n",
       "      <th>bath</th>\n",
       "      <th>price</th>\n",
       "      <th>bhk</th>\n",
       "      <th>price_per_sqft</th>\n",
       "    </tr>\n",
       "  </thead>\n",
       "  <tbody>\n",
       "    <tr>\n",
       "      <th>36</th>\n",
       "      <td>2nd Stage Nagarbhavi</td>\n",
       "      <td>6 Bedroom</td>\n",
       "      <td>3000.0</td>\n",
       "      <td>8.0</td>\n",
       "      <td>451.0</td>\n",
       "      <td>6</td>\n",
       "      <td>15033.333333</td>\n",
       "    </tr>\n",
       "    <tr>\n",
       "      <th>37</th>\n",
       "      <td>2nd Stage Nagarbhavi</td>\n",
       "      <td>6 Bedroom</td>\n",
       "      <td>2400.0</td>\n",
       "      <td>8.0</td>\n",
       "      <td>450.0</td>\n",
       "      <td>6</td>\n",
       "      <td>18750.000000</td>\n",
       "    </tr>\n",
       "    <tr>\n",
       "      <th>530</th>\n",
       "      <td>Arekere</td>\n",
       "      <td>4 BHK</td>\n",
       "      <td>2710.0</td>\n",
       "      <td>6.0</td>\n",
       "      <td>142.0</td>\n",
       "      <td>4</td>\n",
       "      <td>5239.852399</td>\n",
       "    </tr>\n",
       "    <tr>\n",
       "      <th>580</th>\n",
       "      <td>BTM 2nd Stage</td>\n",
       "      <td>3 Bedroom</td>\n",
       "      <td>1260.0</td>\n",
       "      <td>5.0</td>\n",
       "      <td>185.0</td>\n",
       "      <td>3</td>\n",
       "      <td>14682.539683</td>\n",
       "    </tr>\n",
       "    <tr>\n",
       "      <th>813</th>\n",
       "      <td>Bannerghatta</td>\n",
       "      <td>4 BHK</td>\n",
       "      <td>3012.0</td>\n",
       "      <td>6.0</td>\n",
       "      <td>250.0</td>\n",
       "      <td>4</td>\n",
       "      <td>8300.132802</td>\n",
       "    </tr>\n",
       "    <tr>\n",
       "      <th>...</th>\n",
       "      <td>...</td>\n",
       "      <td>...</td>\n",
       "      <td>...</td>\n",
       "      <td>...</td>\n",
       "      <td>...</td>\n",
       "      <td>...</td>\n",
       "      <td>...</td>\n",
       "    </tr>\n",
       "    <tr>\n",
       "      <th>9915</th>\n",
       "      <td>other</td>\n",
       "      <td>4 BHK</td>\n",
       "      <td>6652.0</td>\n",
       "      <td>6.0</td>\n",
       "      <td>510.0</td>\n",
       "      <td>4</td>\n",
       "      <td>7666.867108</td>\n",
       "    </tr>\n",
       "    <tr>\n",
       "      <th>10036</th>\n",
       "      <td>other</td>\n",
       "      <td>2 BHK</td>\n",
       "      <td>600.0</td>\n",
       "      <td>4.0</td>\n",
       "      <td>70.0</td>\n",
       "      <td>2</td>\n",
       "      <td>11666.666667</td>\n",
       "    </tr>\n",
       "    <tr>\n",
       "      <th>10089</th>\n",
       "      <td>other</td>\n",
       "      <td>3 Bedroom</td>\n",
       "      <td>5656.0</td>\n",
       "      <td>5.0</td>\n",
       "      <td>499.0</td>\n",
       "      <td>3</td>\n",
       "      <td>8822.489392</td>\n",
       "    </tr>\n",
       "    <tr>\n",
       "      <th>10202</th>\n",
       "      <td>other</td>\n",
       "      <td>4 BHK</td>\n",
       "      <td>6652.0</td>\n",
       "      <td>6.0</td>\n",
       "      <td>660.0</td>\n",
       "      <td>4</td>\n",
       "      <td>9921.828022</td>\n",
       "    </tr>\n",
       "    <tr>\n",
       "      <th>10209</th>\n",
       "      <td>other</td>\n",
       "      <td>4 Bedroom</td>\n",
       "      <td>6688.0</td>\n",
       "      <td>6.0</td>\n",
       "      <td>700.0</td>\n",
       "      <td>4</td>\n",
       "      <td>10466.507177</td>\n",
       "    </tr>\n",
       "  </tbody>\n",
       "</table>\n",
       "<p>78 rows × 7 columns</p>\n",
       "</div>"
      ],
      "text/plain": [
       "                   location       size  total_sqft  bath  price  bhk  \\\n",
       "36     2nd Stage Nagarbhavi  6 Bedroom      3000.0   8.0  451.0    6   \n",
       "37     2nd Stage Nagarbhavi  6 Bedroom      2400.0   8.0  450.0    6   \n",
       "530                 Arekere      4 BHK      2710.0   6.0  142.0    4   \n",
       "580           BTM 2nd Stage  3 Bedroom      1260.0   5.0  185.0    3   \n",
       "813            Bannerghatta      4 BHK      3012.0   6.0  250.0    4   \n",
       "...                     ...        ...         ...   ...    ...  ...   \n",
       "9915                  other      4 BHK      6652.0   6.0  510.0    4   \n",
       "10036                 other      2 BHK       600.0   4.0   70.0    2   \n",
       "10089                 other  3 Bedroom      5656.0   5.0  499.0    3   \n",
       "10202                 other      4 BHK      6652.0   6.0  660.0    4   \n",
       "10209                 other  4 Bedroom      6688.0   6.0  700.0    4   \n",
       "\n",
       "       price_per_sqft  \n",
       "36       15033.333333  \n",
       "37       18750.000000  \n",
       "530       5239.852399  \n",
       "580      14682.539683  \n",
       "813       8300.132802  \n",
       "...               ...  \n",
       "9915      7666.867108  \n",
       "10036    11666.666667  \n",
       "10089     8822.489392  \n",
       "10202     9921.828022  \n",
       "10209    10466.507177  \n",
       "\n",
       "[78 rows x 7 columns]"
      ]
     },
     "execution_count": 36,
     "metadata": {},
     "output_type": "execute_result"
    }
   ],
   "source": [
    "df8[df8.bath >= df8.bhk+2]"
   ]
  },
  {
   "cell_type": "markdown",
   "id": "b4d1af6f",
   "metadata": {
    "papermill": {
     "duration": 0.080865,
     "end_time": "2022-05-12T11:33:14.863191",
     "exception": false,
     "start_time": "2022-05-12T11:33:14.782326",
     "status": "completed"
    },
    "tags": []
   },
   "source": [
    "We can see that some apartments have 2 more bathrooms than the bedrooms which is unusual"
   ]
  },
  {
   "cell_type": "code",
   "execution_count": 37,
   "id": "477dddad",
   "metadata": {
    "execution": {
     "iopub.execute_input": "2022-05-12T11:33:15.032964Z",
     "iopub.status.busy": "2022-05-12T11:33:15.032010Z",
     "iopub.status.idle": "2022-05-12T11:33:15.039351Z",
     "shell.execute_reply": "2022-05-12T11:33:15.038630Z"
    },
    "papermill": {
     "duration": 0.093058,
     "end_time": "2022-05-12T11:33:15.041463",
     "exception": false,
     "start_time": "2022-05-12T11:33:14.948405",
     "status": "completed"
    },
    "tags": []
   },
   "outputs": [
    {
     "data": {
      "text/plain": [
       "(7251, 7)"
      ]
     },
     "execution_count": 37,
     "metadata": {},
     "output_type": "execute_result"
    }
   ],
   "source": [
    "df9 = df8[df8.bath < df8.bhk+2]\n",
    "df9.shape"
   ]
  },
  {
   "cell_type": "markdown",
   "id": "e695358a",
   "metadata": {
    "papermill": {
     "duration": 0.083391,
     "end_time": "2022-05-12T11:33:15.209728",
     "exception": false,
     "start_time": "2022-05-12T11:33:15.126337",
     "status": "completed"
    },
    "tags": []
   },
   "source": [
    "**Removing unnecessary features**"
   ]
  },
  {
   "cell_type": "code",
   "execution_count": 38,
   "id": "1b6c21d3",
   "metadata": {
    "execution": {
     "iopub.execute_input": "2022-05-12T11:33:15.376154Z",
     "iopub.status.busy": "2022-05-12T11:33:15.375623Z",
     "iopub.status.idle": "2022-05-12T11:33:15.388704Z",
     "shell.execute_reply": "2022-05-12T11:33:15.388091Z"
    },
    "papermill": {
     "duration": 0.099138,
     "end_time": "2022-05-12T11:33:15.390654",
     "exception": false,
     "start_time": "2022-05-12T11:33:15.291516",
     "status": "completed"
    },
    "tags": []
   },
   "outputs": [
    {
     "data": {
      "text/html": [
       "<div>\n",
       "<style scoped>\n",
       "    .dataframe tbody tr th:only-of-type {\n",
       "        vertical-align: middle;\n",
       "    }\n",
       "\n",
       "    .dataframe tbody tr th {\n",
       "        vertical-align: top;\n",
       "    }\n",
       "\n",
       "    .dataframe thead th {\n",
       "        text-align: right;\n",
       "    }\n",
       "</style>\n",
       "<table border=\"1\" class=\"dataframe\">\n",
       "  <thead>\n",
       "    <tr style=\"text-align: right;\">\n",
       "      <th></th>\n",
       "      <th>location</th>\n",
       "      <th>total_sqft</th>\n",
       "      <th>bath</th>\n",
       "      <th>price</th>\n",
       "      <th>bhk</th>\n",
       "    </tr>\n",
       "  </thead>\n",
       "  <tbody>\n",
       "    <tr>\n",
       "      <th>0</th>\n",
       "      <td>1st Block Jayanagar</td>\n",
       "      <td>2850.0</td>\n",
       "      <td>4.0</td>\n",
       "      <td>428.0</td>\n",
       "      <td>4</td>\n",
       "    </tr>\n",
       "    <tr>\n",
       "      <th>1</th>\n",
       "      <td>1st Block Jayanagar</td>\n",
       "      <td>1630.0</td>\n",
       "      <td>3.0</td>\n",
       "      <td>194.0</td>\n",
       "      <td>3</td>\n",
       "    </tr>\n",
       "    <tr>\n",
       "      <th>2</th>\n",
       "      <td>1st Block Jayanagar</td>\n",
       "      <td>1875.0</td>\n",
       "      <td>2.0</td>\n",
       "      <td>235.0</td>\n",
       "      <td>3</td>\n",
       "    </tr>\n",
       "    <tr>\n",
       "      <th>3</th>\n",
       "      <td>1st Block Jayanagar</td>\n",
       "      <td>1200.0</td>\n",
       "      <td>2.0</td>\n",
       "      <td>130.0</td>\n",
       "      <td>3</td>\n",
       "    </tr>\n",
       "    <tr>\n",
       "      <th>4</th>\n",
       "      <td>1st Block Jayanagar</td>\n",
       "      <td>1235.0</td>\n",
       "      <td>2.0</td>\n",
       "      <td>148.0</td>\n",
       "      <td>2</td>\n",
       "    </tr>\n",
       "  </tbody>\n",
       "</table>\n",
       "</div>"
      ],
      "text/plain": [
       "              location  total_sqft  bath  price  bhk\n",
       "0  1st Block Jayanagar      2850.0   4.0  428.0    4\n",
       "1  1st Block Jayanagar      1630.0   3.0  194.0    3\n",
       "2  1st Block Jayanagar      1875.0   2.0  235.0    3\n",
       "3  1st Block Jayanagar      1200.0   2.0  130.0    3\n",
       "4  1st Block Jayanagar      1235.0   2.0  148.0    2"
      ]
     },
     "execution_count": 38,
     "metadata": {},
     "output_type": "execute_result"
    }
   ],
   "source": [
    "df10 = df9.drop(['size','price_per_sqft'], axis='columns')\n",
    "df10.head(5)"
   ]
  },
  {
   "cell_type": "markdown",
   "id": "5b73908e",
   "metadata": {
    "papermill": {
     "duration": 0.081987,
     "end_time": "2022-05-12T11:33:15.555307",
     "exception": false,
     "start_time": "2022-05-12T11:33:15.473320",
     "status": "completed"
    },
    "tags": []
   },
   "source": [
    "# Model Building"
   ]
  },
  {
   "cell_type": "code",
   "execution_count": 39,
   "id": "d30c3113",
   "metadata": {
    "execution": {
     "iopub.execute_input": "2022-05-12T11:33:15.735572Z",
     "iopub.status.busy": "2022-05-12T11:33:15.734864Z",
     "iopub.status.idle": "2022-05-12T11:33:15.746044Z",
     "shell.execute_reply": "2022-05-12T11:33:15.745248Z"
    },
    "papermill": {
     "duration": 0.110788,
     "end_time": "2022-05-12T11:33:15.748341",
     "exception": false,
     "start_time": "2022-05-12T11:33:15.637553",
     "status": "completed"
    },
    "tags": []
   },
   "outputs": [
    {
     "data": {
      "text/plain": [
       "other                    1134\n",
       "Whitefield                238\n",
       "Sarjapur  Road            186\n",
       "Electronic City           162\n",
       "Raja Rajeshwari Nagar     140\n",
       "                         ... \n",
       "Vishveshwarya Layout        4\n",
       "Vishwapriya Layout          4\n",
       "HAL 2nd Stage               4\n",
       "2nd Stage Nagarbhavi        4\n",
       "Marsur                      3\n",
       "Name: location, Length: 242, dtype: int64"
      ]
     },
     "execution_count": 39,
     "metadata": {},
     "output_type": "execute_result"
    }
   ],
   "source": [
    "df10.location.value_counts()"
   ]
  },
  {
   "cell_type": "markdown",
   "id": "bdae840f",
   "metadata": {
    "papermill": {
     "duration": 0.094949,
     "end_time": "2022-05-12T11:33:15.937402",
     "exception": false,
     "start_time": "2022-05-12T11:33:15.842453",
     "status": "completed"
    },
    "tags": []
   },
   "source": [
    "**Converting categorical data into numerical data using One hot encoding**"
   ]
  },
  {
   "cell_type": "code",
   "execution_count": 40,
   "id": "496fc742",
   "metadata": {
    "execution": {
     "iopub.execute_input": "2022-05-12T11:33:16.128345Z",
     "iopub.status.busy": "2022-05-12T11:33:16.127628Z",
     "iopub.status.idle": "2022-05-12T11:33:16.156710Z",
     "shell.execute_reply": "2022-05-12T11:33:16.156098Z"
    },
    "papermill": {
     "duration": 0.126991,
     "end_time": "2022-05-12T11:33:16.159544",
     "exception": false,
     "start_time": "2022-05-12T11:33:16.032553",
     "status": "completed"
    },
    "tags": []
   },
   "outputs": [
    {
     "data": {
      "text/html": [
       "<div>\n",
       "<style scoped>\n",
       "    .dataframe tbody tr th:only-of-type {\n",
       "        vertical-align: middle;\n",
       "    }\n",
       "\n",
       "    .dataframe tbody tr th {\n",
       "        vertical-align: top;\n",
       "    }\n",
       "\n",
       "    .dataframe thead th {\n",
       "        text-align: right;\n",
       "    }\n",
       "</style>\n",
       "<table border=\"1\" class=\"dataframe\">\n",
       "  <thead>\n",
       "    <tr style=\"text-align: right;\">\n",
       "      <th></th>\n",
       "      <th>1st Block Jayanagar</th>\n",
       "      <th>1st Phase JP Nagar</th>\n",
       "      <th>2nd Phase Judicial Layout</th>\n",
       "      <th>2nd Stage Nagarbhavi</th>\n",
       "      <th>5th Block Hbr Layout</th>\n",
       "      <th>5th Phase JP Nagar</th>\n",
       "      <th>6th Phase JP Nagar</th>\n",
       "      <th>7th Phase JP Nagar</th>\n",
       "      <th>8th Phase JP Nagar</th>\n",
       "      <th>9th Phase JP Nagar</th>\n",
       "      <th>...</th>\n",
       "      <th>Vishveshwarya Layout</th>\n",
       "      <th>Vishwapriya Layout</th>\n",
       "      <th>Vittasandra</th>\n",
       "      <th>Whitefield</th>\n",
       "      <th>Yelachenahalli</th>\n",
       "      <th>Yelahanka</th>\n",
       "      <th>Yelahanka New Town</th>\n",
       "      <th>Yelenahalli</th>\n",
       "      <th>Yeshwanthpur</th>\n",
       "      <th>other</th>\n",
       "    </tr>\n",
       "  </thead>\n",
       "  <tbody>\n",
       "    <tr>\n",
       "      <th>0</th>\n",
       "      <td>1</td>\n",
       "      <td>0</td>\n",
       "      <td>0</td>\n",
       "      <td>0</td>\n",
       "      <td>0</td>\n",
       "      <td>0</td>\n",
       "      <td>0</td>\n",
       "      <td>0</td>\n",
       "      <td>0</td>\n",
       "      <td>0</td>\n",
       "      <td>...</td>\n",
       "      <td>0</td>\n",
       "      <td>0</td>\n",
       "      <td>0</td>\n",
       "      <td>0</td>\n",
       "      <td>0</td>\n",
       "      <td>0</td>\n",
       "      <td>0</td>\n",
       "      <td>0</td>\n",
       "      <td>0</td>\n",
       "      <td>0</td>\n",
       "    </tr>\n",
       "    <tr>\n",
       "      <th>1</th>\n",
       "      <td>1</td>\n",
       "      <td>0</td>\n",
       "      <td>0</td>\n",
       "      <td>0</td>\n",
       "      <td>0</td>\n",
       "      <td>0</td>\n",
       "      <td>0</td>\n",
       "      <td>0</td>\n",
       "      <td>0</td>\n",
       "      <td>0</td>\n",
       "      <td>...</td>\n",
       "      <td>0</td>\n",
       "      <td>0</td>\n",
       "      <td>0</td>\n",
       "      <td>0</td>\n",
       "      <td>0</td>\n",
       "      <td>0</td>\n",
       "      <td>0</td>\n",
       "      <td>0</td>\n",
       "      <td>0</td>\n",
       "      <td>0</td>\n",
       "    </tr>\n",
       "    <tr>\n",
       "      <th>2</th>\n",
       "      <td>1</td>\n",
       "      <td>0</td>\n",
       "      <td>0</td>\n",
       "      <td>0</td>\n",
       "      <td>0</td>\n",
       "      <td>0</td>\n",
       "      <td>0</td>\n",
       "      <td>0</td>\n",
       "      <td>0</td>\n",
       "      <td>0</td>\n",
       "      <td>...</td>\n",
       "      <td>0</td>\n",
       "      <td>0</td>\n",
       "      <td>0</td>\n",
       "      <td>0</td>\n",
       "      <td>0</td>\n",
       "      <td>0</td>\n",
       "      <td>0</td>\n",
       "      <td>0</td>\n",
       "      <td>0</td>\n",
       "      <td>0</td>\n",
       "    </tr>\n",
       "  </tbody>\n",
       "</table>\n",
       "<p>3 rows × 242 columns</p>\n",
       "</div>"
      ],
      "text/plain": [
       "   1st Block Jayanagar  1st Phase JP Nagar  2nd Phase Judicial Layout  \\\n",
       "0                    1                   0                          0   \n",
       "1                    1                   0                          0   \n",
       "2                    1                   0                          0   \n",
       "\n",
       "   2nd Stage Nagarbhavi  5th Block Hbr Layout  5th Phase JP Nagar  \\\n",
       "0                     0                     0                   0   \n",
       "1                     0                     0                   0   \n",
       "2                     0                     0                   0   \n",
       "\n",
       "   6th Phase JP Nagar  7th Phase JP Nagar  8th Phase JP Nagar  \\\n",
       "0                   0                   0                   0   \n",
       "1                   0                   0                   0   \n",
       "2                   0                   0                   0   \n",
       "\n",
       "   9th Phase JP Nagar  ...  Vishveshwarya Layout  Vishwapriya Layout  \\\n",
       "0                   0  ...                     0                   0   \n",
       "1                   0  ...                     0                   0   \n",
       "2                   0  ...                     0                   0   \n",
       "\n",
       "   Vittasandra  Whitefield  Yelachenahalli  Yelahanka  Yelahanka New Town  \\\n",
       "0            0           0               0          0                   0   \n",
       "1            0           0               0          0                   0   \n",
       "2            0           0               0          0                   0   \n",
       "\n",
       "   Yelenahalli  Yeshwanthpur  other  \n",
       "0            0             0      0  \n",
       "1            0             0      0  \n",
       "2            0             0      0  \n",
       "\n",
       "[3 rows x 242 columns]"
      ]
     },
     "execution_count": 40,
     "metadata": {},
     "output_type": "execute_result"
    }
   ],
   "source": [
    "dummies = pd.get_dummies(df10.location)\n",
    "dummies.head(3)"
   ]
  },
  {
   "cell_type": "code",
   "execution_count": 41,
   "id": "787d1bdd",
   "metadata": {
    "execution": {
     "iopub.execute_input": "2022-05-12T11:33:16.339906Z",
     "iopub.status.busy": "2022-05-12T11:33:16.339520Z",
     "iopub.status.idle": "2022-05-12T11:33:16.362205Z",
     "shell.execute_reply": "2022-05-12T11:33:16.361341Z"
    },
    "papermill": {
     "duration": 0.111334,
     "end_time": "2022-05-12T11:33:16.364407",
     "exception": false,
     "start_time": "2022-05-12T11:33:16.253073",
     "status": "completed"
    },
    "tags": []
   },
   "outputs": [
    {
     "data": {
      "text/html": [
       "<div>\n",
       "<style scoped>\n",
       "    .dataframe tbody tr th:only-of-type {\n",
       "        vertical-align: middle;\n",
       "    }\n",
       "\n",
       "    .dataframe tbody tr th {\n",
       "        vertical-align: top;\n",
       "    }\n",
       "\n",
       "    .dataframe thead th {\n",
       "        text-align: right;\n",
       "    }\n",
       "</style>\n",
       "<table border=\"1\" class=\"dataframe\">\n",
       "  <thead>\n",
       "    <tr style=\"text-align: right;\">\n",
       "      <th></th>\n",
       "      <th>location</th>\n",
       "      <th>total_sqft</th>\n",
       "      <th>bath</th>\n",
       "      <th>price</th>\n",
       "      <th>bhk</th>\n",
       "      <th>1st Block Jayanagar</th>\n",
       "      <th>1st Phase JP Nagar</th>\n",
       "      <th>2nd Phase Judicial Layout</th>\n",
       "      <th>2nd Stage Nagarbhavi</th>\n",
       "      <th>5th Block Hbr Layout</th>\n",
       "      <th>...</th>\n",
       "      <th>Vishveshwarya Layout</th>\n",
       "      <th>Vishwapriya Layout</th>\n",
       "      <th>Vittasandra</th>\n",
       "      <th>Whitefield</th>\n",
       "      <th>Yelachenahalli</th>\n",
       "      <th>Yelahanka</th>\n",
       "      <th>Yelahanka New Town</th>\n",
       "      <th>Yelenahalli</th>\n",
       "      <th>Yeshwanthpur</th>\n",
       "      <th>other</th>\n",
       "    </tr>\n",
       "  </thead>\n",
       "  <tbody>\n",
       "    <tr>\n",
       "      <th>0</th>\n",
       "      <td>1st Block Jayanagar</td>\n",
       "      <td>2850.0</td>\n",
       "      <td>4.0</td>\n",
       "      <td>428.0</td>\n",
       "      <td>4</td>\n",
       "      <td>1</td>\n",
       "      <td>0</td>\n",
       "      <td>0</td>\n",
       "      <td>0</td>\n",
       "      <td>0</td>\n",
       "      <td>...</td>\n",
       "      <td>0</td>\n",
       "      <td>0</td>\n",
       "      <td>0</td>\n",
       "      <td>0</td>\n",
       "      <td>0</td>\n",
       "      <td>0</td>\n",
       "      <td>0</td>\n",
       "      <td>0</td>\n",
       "      <td>0</td>\n",
       "      <td>0</td>\n",
       "    </tr>\n",
       "    <tr>\n",
       "      <th>1</th>\n",
       "      <td>1st Block Jayanagar</td>\n",
       "      <td>1630.0</td>\n",
       "      <td>3.0</td>\n",
       "      <td>194.0</td>\n",
       "      <td>3</td>\n",
       "      <td>1</td>\n",
       "      <td>0</td>\n",
       "      <td>0</td>\n",
       "      <td>0</td>\n",
       "      <td>0</td>\n",
       "      <td>...</td>\n",
       "      <td>0</td>\n",
       "      <td>0</td>\n",
       "      <td>0</td>\n",
       "      <td>0</td>\n",
       "      <td>0</td>\n",
       "      <td>0</td>\n",
       "      <td>0</td>\n",
       "      <td>0</td>\n",
       "      <td>0</td>\n",
       "      <td>0</td>\n",
       "    </tr>\n",
       "    <tr>\n",
       "      <th>2</th>\n",
       "      <td>1st Block Jayanagar</td>\n",
       "      <td>1875.0</td>\n",
       "      <td>2.0</td>\n",
       "      <td>235.0</td>\n",
       "      <td>3</td>\n",
       "      <td>1</td>\n",
       "      <td>0</td>\n",
       "      <td>0</td>\n",
       "      <td>0</td>\n",
       "      <td>0</td>\n",
       "      <td>...</td>\n",
       "      <td>0</td>\n",
       "      <td>0</td>\n",
       "      <td>0</td>\n",
       "      <td>0</td>\n",
       "      <td>0</td>\n",
       "      <td>0</td>\n",
       "      <td>0</td>\n",
       "      <td>0</td>\n",
       "      <td>0</td>\n",
       "      <td>0</td>\n",
       "    </tr>\n",
       "  </tbody>\n",
       "</table>\n",
       "<p>3 rows × 247 columns</p>\n",
       "</div>"
      ],
      "text/plain": [
       "              location  total_sqft  bath  price  bhk  1st Block Jayanagar  \\\n",
       "0  1st Block Jayanagar      2850.0   4.0  428.0    4                    1   \n",
       "1  1st Block Jayanagar      1630.0   3.0  194.0    3                    1   \n",
       "2  1st Block Jayanagar      1875.0   2.0  235.0    3                    1   \n",
       "\n",
       "   1st Phase JP Nagar  2nd Phase Judicial Layout  2nd Stage Nagarbhavi  \\\n",
       "0                   0                          0                     0   \n",
       "1                   0                          0                     0   \n",
       "2                   0                          0                     0   \n",
       "\n",
       "   5th Block Hbr Layout  ...  Vishveshwarya Layout  Vishwapriya Layout  \\\n",
       "0                     0  ...                     0                   0   \n",
       "1                     0  ...                     0                   0   \n",
       "2                     0  ...                     0                   0   \n",
       "\n",
       "   Vittasandra  Whitefield  Yelachenahalli  Yelahanka  Yelahanka New Town  \\\n",
       "0            0           0               0          0                   0   \n",
       "1            0           0               0          0                   0   \n",
       "2            0           0               0          0                   0   \n",
       "\n",
       "   Yelenahalli  Yeshwanthpur  other  \n",
       "0            0             0      0  \n",
       "1            0             0      0  \n",
       "2            0             0      0  \n",
       "\n",
       "[3 rows x 247 columns]"
      ]
     },
     "execution_count": 41,
     "metadata": {},
     "output_type": "execute_result"
    }
   ],
   "source": [
    "df11 = pd.concat([df10, dummies], axis='columns')\n",
    "df11.head(3)"
   ]
  },
  {
   "cell_type": "code",
   "execution_count": 42,
   "id": "ba37948e",
   "metadata": {
    "execution": {
     "iopub.execute_input": "2022-05-12T11:33:16.538360Z",
     "iopub.status.busy": "2022-05-12T11:33:16.537952Z",
     "iopub.status.idle": "2022-05-12T11:33:16.565955Z",
     "shell.execute_reply": "2022-05-12T11:33:16.565072Z"
    },
    "papermill": {
     "duration": 0.11902,
     "end_time": "2022-05-12T11:33:16.568527",
     "exception": false,
     "start_time": "2022-05-12T11:33:16.449507",
     "status": "completed"
    },
    "tags": []
   },
   "outputs": [
    {
     "data": {
      "text/html": [
       "<div>\n",
       "<style scoped>\n",
       "    .dataframe tbody tr th:only-of-type {\n",
       "        vertical-align: middle;\n",
       "    }\n",
       "\n",
       "    .dataframe tbody tr th {\n",
       "        vertical-align: top;\n",
       "    }\n",
       "\n",
       "    .dataframe thead th {\n",
       "        text-align: right;\n",
       "    }\n",
       "</style>\n",
       "<table border=\"1\" class=\"dataframe\">\n",
       "  <thead>\n",
       "    <tr style=\"text-align: right;\">\n",
       "      <th></th>\n",
       "      <th>total_sqft</th>\n",
       "      <th>bath</th>\n",
       "      <th>price</th>\n",
       "      <th>bhk</th>\n",
       "      <th>1st Block Jayanagar</th>\n",
       "      <th>1st Phase JP Nagar</th>\n",
       "      <th>2nd Phase Judicial Layout</th>\n",
       "      <th>2nd Stage Nagarbhavi</th>\n",
       "      <th>5th Block Hbr Layout</th>\n",
       "      <th>5th Phase JP Nagar</th>\n",
       "      <th>...</th>\n",
       "      <th>Vijayanagar</th>\n",
       "      <th>Vishveshwarya Layout</th>\n",
       "      <th>Vishwapriya Layout</th>\n",
       "      <th>Vittasandra</th>\n",
       "      <th>Whitefield</th>\n",
       "      <th>Yelachenahalli</th>\n",
       "      <th>Yelahanka</th>\n",
       "      <th>Yelahanka New Town</th>\n",
       "      <th>Yelenahalli</th>\n",
       "      <th>Yeshwanthpur</th>\n",
       "    </tr>\n",
       "  </thead>\n",
       "  <tbody>\n",
       "    <tr>\n",
       "      <th>0</th>\n",
       "      <td>2850.0</td>\n",
       "      <td>4.0</td>\n",
       "      <td>428.0</td>\n",
       "      <td>4</td>\n",
       "      <td>1</td>\n",
       "      <td>0</td>\n",
       "      <td>0</td>\n",
       "      <td>0</td>\n",
       "      <td>0</td>\n",
       "      <td>0</td>\n",
       "      <td>...</td>\n",
       "      <td>0</td>\n",
       "      <td>0</td>\n",
       "      <td>0</td>\n",
       "      <td>0</td>\n",
       "      <td>0</td>\n",
       "      <td>0</td>\n",
       "      <td>0</td>\n",
       "      <td>0</td>\n",
       "      <td>0</td>\n",
       "      <td>0</td>\n",
       "    </tr>\n",
       "    <tr>\n",
       "      <th>1</th>\n",
       "      <td>1630.0</td>\n",
       "      <td>3.0</td>\n",
       "      <td>194.0</td>\n",
       "      <td>3</td>\n",
       "      <td>1</td>\n",
       "      <td>0</td>\n",
       "      <td>0</td>\n",
       "      <td>0</td>\n",
       "      <td>0</td>\n",
       "      <td>0</td>\n",
       "      <td>...</td>\n",
       "      <td>0</td>\n",
       "      <td>0</td>\n",
       "      <td>0</td>\n",
       "      <td>0</td>\n",
       "      <td>0</td>\n",
       "      <td>0</td>\n",
       "      <td>0</td>\n",
       "      <td>0</td>\n",
       "      <td>0</td>\n",
       "      <td>0</td>\n",
       "    </tr>\n",
       "    <tr>\n",
       "      <th>2</th>\n",
       "      <td>1875.0</td>\n",
       "      <td>2.0</td>\n",
       "      <td>235.0</td>\n",
       "      <td>3</td>\n",
       "      <td>1</td>\n",
       "      <td>0</td>\n",
       "      <td>0</td>\n",
       "      <td>0</td>\n",
       "      <td>0</td>\n",
       "      <td>0</td>\n",
       "      <td>...</td>\n",
       "      <td>0</td>\n",
       "      <td>0</td>\n",
       "      <td>0</td>\n",
       "      <td>0</td>\n",
       "      <td>0</td>\n",
       "      <td>0</td>\n",
       "      <td>0</td>\n",
       "      <td>0</td>\n",
       "      <td>0</td>\n",
       "      <td>0</td>\n",
       "    </tr>\n",
       "  </tbody>\n",
       "</table>\n",
       "<p>3 rows × 245 columns</p>\n",
       "</div>"
      ],
      "text/plain": [
       "   total_sqft  bath  price  bhk  1st Block Jayanagar  1st Phase JP Nagar  \\\n",
       "0      2850.0   4.0  428.0    4                    1                   0   \n",
       "1      1630.0   3.0  194.0    3                    1                   0   \n",
       "2      1875.0   2.0  235.0    3                    1                   0   \n",
       "\n",
       "   2nd Phase Judicial Layout  2nd Stage Nagarbhavi  5th Block Hbr Layout  \\\n",
       "0                          0                     0                     0   \n",
       "1                          0                     0                     0   \n",
       "2                          0                     0                     0   \n",
       "\n",
       "   5th Phase JP Nagar  ...  Vijayanagar  Vishveshwarya Layout  \\\n",
       "0                   0  ...            0                     0   \n",
       "1                   0  ...            0                     0   \n",
       "2                   0  ...            0                     0   \n",
       "\n",
       "   Vishwapriya Layout  Vittasandra  Whitefield  Yelachenahalli  Yelahanka  \\\n",
       "0                   0            0           0               0          0   \n",
       "1                   0            0           0               0          0   \n",
       "2                   0            0           0               0          0   \n",
       "\n",
       "   Yelahanka New Town  Yelenahalli  Yeshwanthpur  \n",
       "0                   0            0             0  \n",
       "1                   0            0             0  \n",
       "2                   0            0             0  \n",
       "\n",
       "[3 rows x 245 columns]"
      ]
     },
     "execution_count": 42,
     "metadata": {},
     "output_type": "execute_result"
    }
   ],
   "source": [
    "df12 = df11.drop(['location','other'], axis='columns')\n",
    "df12.head(3)"
   ]
  },
  {
   "cell_type": "markdown",
   "id": "956cb5bb",
   "metadata": {
    "papermill": {
     "duration": 0.084722,
     "end_time": "2022-05-12T11:33:16.739694",
     "exception": false,
     "start_time": "2022-05-12T11:33:16.654972",
     "status": "completed"
    },
    "tags": []
   },
   "source": [
    "**Splitting the data into train and test**"
   ]
  },
  {
   "cell_type": "code",
   "execution_count": 43,
   "id": "a17363ff",
   "metadata": {
    "execution": {
     "iopub.execute_input": "2022-05-12T11:33:16.915273Z",
     "iopub.status.busy": "2022-05-12T11:33:16.914678Z",
     "iopub.status.idle": "2022-05-12T11:33:16.937831Z",
     "shell.execute_reply": "2022-05-12T11:33:16.937125Z"
    },
    "papermill": {
     "duration": 0.114398,
     "end_time": "2022-05-12T11:33:16.939991",
     "exception": false,
     "start_time": "2022-05-12T11:33:16.825593",
     "status": "completed"
    },
    "tags": []
   },
   "outputs": [
    {
     "data": {
      "text/html": [
       "<div>\n",
       "<style scoped>\n",
       "    .dataframe tbody tr th:only-of-type {\n",
       "        vertical-align: middle;\n",
       "    }\n",
       "\n",
       "    .dataframe tbody tr th {\n",
       "        vertical-align: top;\n",
       "    }\n",
       "\n",
       "    .dataframe thead th {\n",
       "        text-align: right;\n",
       "    }\n",
       "</style>\n",
       "<table border=\"1\" class=\"dataframe\">\n",
       "  <thead>\n",
       "    <tr style=\"text-align: right;\">\n",
       "      <th></th>\n",
       "      <th>total_sqft</th>\n",
       "      <th>bath</th>\n",
       "      <th>bhk</th>\n",
       "      <th>1st Block Jayanagar</th>\n",
       "      <th>1st Phase JP Nagar</th>\n",
       "      <th>2nd Phase Judicial Layout</th>\n",
       "      <th>2nd Stage Nagarbhavi</th>\n",
       "      <th>5th Block Hbr Layout</th>\n",
       "      <th>5th Phase JP Nagar</th>\n",
       "      <th>6th Phase JP Nagar</th>\n",
       "      <th>...</th>\n",
       "      <th>Vijayanagar</th>\n",
       "      <th>Vishveshwarya Layout</th>\n",
       "      <th>Vishwapriya Layout</th>\n",
       "      <th>Vittasandra</th>\n",
       "      <th>Whitefield</th>\n",
       "      <th>Yelachenahalli</th>\n",
       "      <th>Yelahanka</th>\n",
       "      <th>Yelahanka New Town</th>\n",
       "      <th>Yelenahalli</th>\n",
       "      <th>Yeshwanthpur</th>\n",
       "    </tr>\n",
       "  </thead>\n",
       "  <tbody>\n",
       "    <tr>\n",
       "      <th>0</th>\n",
       "      <td>2850.0</td>\n",
       "      <td>4.0</td>\n",
       "      <td>4</td>\n",
       "      <td>1</td>\n",
       "      <td>0</td>\n",
       "      <td>0</td>\n",
       "      <td>0</td>\n",
       "      <td>0</td>\n",
       "      <td>0</td>\n",
       "      <td>0</td>\n",
       "      <td>...</td>\n",
       "      <td>0</td>\n",
       "      <td>0</td>\n",
       "      <td>0</td>\n",
       "      <td>0</td>\n",
       "      <td>0</td>\n",
       "      <td>0</td>\n",
       "      <td>0</td>\n",
       "      <td>0</td>\n",
       "      <td>0</td>\n",
       "      <td>0</td>\n",
       "    </tr>\n",
       "    <tr>\n",
       "      <th>1</th>\n",
       "      <td>1630.0</td>\n",
       "      <td>3.0</td>\n",
       "      <td>3</td>\n",
       "      <td>1</td>\n",
       "      <td>0</td>\n",
       "      <td>0</td>\n",
       "      <td>0</td>\n",
       "      <td>0</td>\n",
       "      <td>0</td>\n",
       "      <td>0</td>\n",
       "      <td>...</td>\n",
       "      <td>0</td>\n",
       "      <td>0</td>\n",
       "      <td>0</td>\n",
       "      <td>0</td>\n",
       "      <td>0</td>\n",
       "      <td>0</td>\n",
       "      <td>0</td>\n",
       "      <td>0</td>\n",
       "      <td>0</td>\n",
       "      <td>0</td>\n",
       "    </tr>\n",
       "    <tr>\n",
       "      <th>2</th>\n",
       "      <td>1875.0</td>\n",
       "      <td>2.0</td>\n",
       "      <td>3</td>\n",
       "      <td>1</td>\n",
       "      <td>0</td>\n",
       "      <td>0</td>\n",
       "      <td>0</td>\n",
       "      <td>0</td>\n",
       "      <td>0</td>\n",
       "      <td>0</td>\n",
       "      <td>...</td>\n",
       "      <td>0</td>\n",
       "      <td>0</td>\n",
       "      <td>0</td>\n",
       "      <td>0</td>\n",
       "      <td>0</td>\n",
       "      <td>0</td>\n",
       "      <td>0</td>\n",
       "      <td>0</td>\n",
       "      <td>0</td>\n",
       "      <td>0</td>\n",
       "    </tr>\n",
       "  </tbody>\n",
       "</table>\n",
       "<p>3 rows × 244 columns</p>\n",
       "</div>"
      ],
      "text/plain": [
       "   total_sqft  bath  bhk  1st Block Jayanagar  1st Phase JP Nagar  \\\n",
       "0      2850.0   4.0    4                    1                   0   \n",
       "1      1630.0   3.0    3                    1                   0   \n",
       "2      1875.0   2.0    3                    1                   0   \n",
       "\n",
       "   2nd Phase Judicial Layout  2nd Stage Nagarbhavi  5th Block Hbr Layout  \\\n",
       "0                          0                     0                     0   \n",
       "1                          0                     0                     0   \n",
       "2                          0                     0                     0   \n",
       "\n",
       "   5th Phase JP Nagar  6th Phase JP Nagar  ...  Vijayanagar  \\\n",
       "0                   0                   0  ...            0   \n",
       "1                   0                   0  ...            0   \n",
       "2                   0                   0  ...            0   \n",
       "\n",
       "   Vishveshwarya Layout  Vishwapriya Layout  Vittasandra  Whitefield  \\\n",
       "0                     0                   0            0           0   \n",
       "1                     0                   0            0           0   \n",
       "2                     0                   0            0           0   \n",
       "\n",
       "   Yelachenahalli  Yelahanka  Yelahanka New Town  Yelenahalli  Yeshwanthpur  \n",
       "0               0          0                   0            0             0  \n",
       "1               0          0                   0            0             0  \n",
       "2               0          0                   0            0             0  \n",
       "\n",
       "[3 rows x 244 columns]"
      ]
     },
     "execution_count": 43,
     "metadata": {},
     "output_type": "execute_result"
    }
   ],
   "source": [
    "X = df12.drop('price',axis='columns')\n",
    "X.head(3)"
   ]
  },
  {
   "cell_type": "code",
   "execution_count": 44,
   "id": "64180c95",
   "metadata": {
    "execution": {
     "iopub.execute_input": "2022-05-12T11:33:17.120468Z",
     "iopub.status.busy": "2022-05-12T11:33:17.119917Z",
     "iopub.status.idle": "2022-05-12T11:33:17.126718Z",
     "shell.execute_reply": "2022-05-12T11:33:17.125835Z"
    },
    "papermill": {
     "duration": 0.101711,
     "end_time": "2022-05-12T11:33:17.128864",
     "exception": false,
     "start_time": "2022-05-12T11:33:17.027153",
     "status": "completed"
    },
    "tags": []
   },
   "outputs": [
    {
     "data": {
      "text/plain": [
       "0    428.0\n",
       "1    194.0\n",
       "2    235.0\n",
       "Name: price, dtype: float64"
      ]
     },
     "execution_count": 44,
     "metadata": {},
     "output_type": "execute_result"
    }
   ],
   "source": [
    "y = df12.price\n",
    "y.head(3)"
   ]
  },
  {
   "cell_type": "code",
   "execution_count": 45,
   "id": "9f74468d",
   "metadata": {
    "execution": {
     "iopub.execute_input": "2022-05-12T11:33:17.304907Z",
     "iopub.status.busy": "2022-05-12T11:33:17.304364Z",
     "iopub.status.idle": "2022-05-12T11:33:18.447929Z",
     "shell.execute_reply": "2022-05-12T11:33:18.447093Z"
    },
    "papermill": {
     "duration": 1.233686,
     "end_time": "2022-05-12T11:33:18.450391",
     "exception": false,
     "start_time": "2022-05-12T11:33:17.216705",
     "status": "completed"
    },
    "tags": []
   },
   "outputs": [],
   "source": [
    "from sklearn.model_selection import train_test_split\n",
    "X_train, X_test, y_train, y_test = train_test_split(X,y, test_size=0.2, random_state=10)"
   ]
  },
  {
   "cell_type": "markdown",
   "id": "9133bf34",
   "metadata": {
    "papermill": {
     "duration": 0.088412,
     "end_time": "2022-05-12T11:33:18.626531",
     "exception": false,
     "start_time": "2022-05-12T11:33:18.538119",
     "status": "completed"
    },
    "tags": []
   },
   "source": [
    "**Using GridSearchCV to find the best model**"
   ]
  },
  {
   "cell_type": "code",
   "execution_count": 46,
   "id": "08fa247a",
   "metadata": {
    "execution": {
     "iopub.execute_input": "2022-05-12T11:33:18.802699Z",
     "iopub.status.busy": "2022-05-12T11:33:18.802170Z",
     "iopub.status.idle": "2022-05-12T11:33:26.182213Z",
     "shell.execute_reply": "2022-05-12T11:33:26.181039Z"
    },
    "papermill": {
     "duration": 7.470547,
     "end_time": "2022-05-12T11:33:26.184848",
     "exception": false,
     "start_time": "2022-05-12T11:33:18.714301",
     "status": "completed"
    },
    "tags": []
   },
   "outputs": [
    {
     "data": {
      "text/html": [
       "<div>\n",
       "<style scoped>\n",
       "    .dataframe tbody tr th:only-of-type {\n",
       "        vertical-align: middle;\n",
       "    }\n",
       "\n",
       "    .dataframe tbody tr th {\n",
       "        vertical-align: top;\n",
       "    }\n",
       "\n",
       "    .dataframe thead th {\n",
       "        text-align: right;\n",
       "    }\n",
       "</style>\n",
       "<table border=\"1\" class=\"dataframe\">\n",
       "  <thead>\n",
       "    <tr style=\"text-align: right;\">\n",
       "      <th></th>\n",
       "      <th>model</th>\n",
       "      <th>best_score</th>\n",
       "      <th>best_params</th>\n",
       "    </tr>\n",
       "  </thead>\n",
       "  <tbody>\n",
       "    <tr>\n",
       "      <th>0</th>\n",
       "      <td>linear_regression</td>\n",
       "      <td>0.818354</td>\n",
       "      <td>{'normalize': True}</td>\n",
       "    </tr>\n",
       "    <tr>\n",
       "      <th>1</th>\n",
       "      <td>lasso</td>\n",
       "      <td>0.687429</td>\n",
       "      <td>{'alpha': 1, 'selection': 'cyclic'}</td>\n",
       "    </tr>\n",
       "    <tr>\n",
       "      <th>2</th>\n",
       "      <td>decision_tree</td>\n",
       "      <td>0.710607</td>\n",
       "      <td>{'criterion': 'friedman_mse', 'splitter': 'best'}</td>\n",
       "    </tr>\n",
       "  </tbody>\n",
       "</table>\n",
       "</div>"
      ],
      "text/plain": [
       "               model  best_score  \\\n",
       "0  linear_regression    0.818354   \n",
       "1              lasso    0.687429   \n",
       "2      decision_tree    0.710607   \n",
       "\n",
       "                                         best_params  \n",
       "0                                {'normalize': True}  \n",
       "1                {'alpha': 1, 'selection': 'cyclic'}  \n",
       "2  {'criterion': 'friedman_mse', 'splitter': 'best'}  "
      ]
     },
     "execution_count": 46,
     "metadata": {},
     "output_type": "execute_result"
    }
   ],
   "source": [
    "import warnings\n",
    "warnings.filterwarnings('ignore')\n",
    "\n",
    "from sklearn.model_selection import GridSearchCV\n",
    "from sklearn.model_selection import ShuffleSplit\n",
    "\n",
    "from sklearn.linear_model import LinearRegression\n",
    "from sklearn.tree import DecisionTreeRegressor\n",
    "from sklearn.linear_model import Lasso\n",
    "\n",
    "def best_model_GridSearchCV(X,y):\n",
    "    algos = {\n",
    "        'linear_regression':{\n",
    "            'model': LinearRegression(),\n",
    "            'params': {\n",
    "                'normalize': [True,False]\n",
    "            }\n",
    "        },        \n",
    "        'lasso':{\n",
    "            'model':Lasso(),\n",
    "            'params':{\n",
    "                'alpha': [1,2],\n",
    "                'selection': ['random','cyclic']\n",
    "            }\n",
    "        },        \n",
    "        'decision_tree':{\n",
    "            'model':DecisionTreeRegressor(),\n",
    "            'params':{\n",
    "                'criterion' : ['mse','friedman_mse'],\n",
    "                'splitter': ['best','random']\n",
    "            }\n",
    "        }\n",
    "    }\n",
    "    \n",
    "    scores = []\n",
    "    cv = ShuffleSplit(n_splits=5,test_size=0.2,random_state=0)\n",
    "    \n",
    "    for model_name,config in algos.items():\n",
    "        clf = GridSearchCV(config['model'], config['params'], cv=cv, return_train_score=False)\n",
    "        clf.fit(X,y)\n",
    "        scores.append({\n",
    "            'model': model_name,\n",
    "            'best_score': clf.best_score_,\n",
    "            'best_params': clf.best_params_\n",
    "        })\n",
    "    \n",
    "    return pd.DataFrame(scores)\n",
    "\n",
    "best_model_GridSearchCV(X,y)      \n",
    "    "
   ]
  },
  {
   "cell_type": "markdown",
   "id": "c9cf656c",
   "metadata": {
    "papermill": {
     "duration": 0.08704,
     "end_time": "2022-05-12T11:33:26.359589",
     "exception": false,
     "start_time": "2022-05-12T11:33:26.272549",
     "status": "completed"
    },
    "tags": []
   },
   "source": [
    "On analyzing the above result we can say that LinearRegression is best in this case"
   ]
  },
  {
   "cell_type": "code",
   "execution_count": 47,
   "id": "23ce211c",
   "metadata": {
    "execution": {
     "iopub.execute_input": "2022-05-12T11:33:26.537121Z",
     "iopub.status.busy": "2022-05-12T11:33:26.536332Z",
     "iopub.status.idle": "2022-05-12T11:33:26.630523Z",
     "shell.execute_reply": "2022-05-12T11:33:26.629534Z"
    },
    "papermill": {
     "duration": 0.187036,
     "end_time": "2022-05-12T11:33:26.632880",
     "exception": false,
     "start_time": "2022-05-12T11:33:26.445844",
     "status": "completed"
    },
    "tags": []
   },
   "outputs": [
    {
     "data": {
      "text/plain": [
       "LinearRegression()"
      ]
     },
     "execution_count": 47,
     "metadata": {},
     "output_type": "execute_result"
    }
   ],
   "source": [
    "lr_clf = LinearRegression()\n",
    "lr_clf.fit(X_train,y_train)"
   ]
  },
  {
   "cell_type": "code",
   "execution_count": 48,
   "id": "7b67d567",
   "metadata": {
    "execution": {
     "iopub.execute_input": "2022-05-12T11:33:26.856108Z",
     "iopub.status.busy": "2022-05-12T11:33:26.855818Z",
     "iopub.status.idle": "2022-05-12T11:33:26.861957Z",
     "shell.execute_reply": "2022-05-12T11:33:26.861062Z"
    },
    "papermill": {
     "duration": 0.097096,
     "end_time": "2022-05-12T11:33:26.863979",
     "exception": false,
     "start_time": "2022-05-12T11:33:26.766883",
     "status": "completed"
    },
    "tags": []
   },
   "outputs": [],
   "source": [
    "def predict_price(location,sqft,bath,bhk):\n",
    "    loc_index = np.where(X.columns == location)[0][0]       # returns the location index\n",
    "    \n",
    "    x = np.zeros(len(X.columns))\n",
    "    x[0] = sqft\n",
    "    x[1] = bath\n",
    "    x[2] = bhk\n",
    "    if loc_index>=0:\n",
    "        x[loc_index] = 1\n",
    "    \n",
    "    return lr_clf.predict([x])[0]"
   ]
  },
  {
   "cell_type": "code",
   "execution_count": 49,
   "id": "f236bc3c",
   "metadata": {
    "execution": {
     "iopub.execute_input": "2022-05-12T11:33:27.043282Z",
     "iopub.status.busy": "2022-05-12T11:33:27.042878Z",
     "iopub.status.idle": "2022-05-12T11:33:27.049164Z",
     "shell.execute_reply": "2022-05-12T11:33:27.048529Z"
    },
    "papermill": {
     "duration": 0.098149,
     "end_time": "2022-05-12T11:33:27.050872",
     "exception": false,
     "start_time": "2022-05-12T11:33:26.952723",
     "status": "completed"
    },
    "tags": []
   },
   "outputs": [
    {
     "data": {
      "text/plain": [
       "156.29364613584787"
      ]
     },
     "execution_count": 49,
     "metadata": {},
     "output_type": "execute_result"
    }
   ],
   "source": [
    "predict_price('1st Phase JP Nagar',1875, 3, 3)"
   ]
  },
  {
   "cell_type": "code",
   "execution_count": 50,
   "id": "ed44f275",
   "metadata": {
    "execution": {
     "iopub.execute_input": "2022-05-12T11:33:27.228922Z",
     "iopub.status.busy": "2022-05-12T11:33:27.228148Z",
     "iopub.status.idle": "2022-05-12T11:33:27.234884Z",
     "shell.execute_reply": "2022-05-12T11:33:27.234056Z"
    },
    "papermill": {
     "duration": 0.098273,
     "end_time": "2022-05-12T11:33:27.236950",
     "exception": false,
     "start_time": "2022-05-12T11:33:27.138677",
     "status": "completed"
    },
    "tags": []
   },
   "outputs": [
    {
     "data": {
      "text/plain": [
       "355.5227151886487"
      ]
     },
     "execution_count": 50,
     "metadata": {},
     "output_type": "execute_result"
    }
   ],
   "source": [
    "predict_price(\"1st Block Jayanagar\",2850,4,4)"
   ]
  },
  {
   "cell_type": "code",
   "execution_count": 51,
   "id": "4f6fedb1",
   "metadata": {
    "execution": {
     "iopub.execute_input": "2022-05-12T11:33:27.414533Z",
     "iopub.status.busy": "2022-05-12T11:33:27.414212Z",
     "iopub.status.idle": "2022-05-12T11:33:27.421324Z",
     "shell.execute_reply": "2022-05-12T11:33:27.420241Z"
    },
    "papermill": {
     "duration": 0.099132,
     "end_time": "2022-05-12T11:33:27.423362",
     "exception": false,
     "start_time": "2022-05-12T11:33:27.324230",
     "status": "completed"
    },
    "tags": []
   },
   "outputs": [
    {
     "data": {
      "text/plain": [
       "86.80519395197086"
      ]
     },
     "execution_count": 51,
     "metadata": {},
     "output_type": "execute_result"
    }
   ],
   "source": [
    "predict_price('1st Phase JP Nagar',1000, 3, 3)"
   ]
  },
  {
   "cell_type": "markdown",
   "id": "721f8fec",
   "metadata": {
    "papermill": {
     "duration": 0.088208,
     "end_time": "2022-05-12T11:33:27.600665",
     "exception": false,
     "start_time": "2022-05-12T11:33:27.512457",
     "status": "completed"
    },
    "tags": []
   },
   "source": [
    "# Export the model to the pickle file"
   ]
  },
  {
   "cell_type": "code",
   "execution_count": 52,
   "id": "a9c1c4fd",
   "metadata": {
    "execution": {
     "iopub.execute_input": "2022-05-12T11:33:27.778265Z",
     "iopub.status.busy": "2022-05-12T11:33:27.777922Z",
     "iopub.status.idle": "2022-05-12T11:33:27.782839Z",
     "shell.execute_reply": "2022-05-12T11:33:27.781894Z"
    },
    "papermill": {
     "duration": 0.096367,
     "end_time": "2022-05-12T11:33:27.785085",
     "exception": false,
     "start_time": "2022-05-12T11:33:27.688718",
     "status": "completed"
    },
    "tags": []
   },
   "outputs": [],
   "source": [
    "import pickle\n",
    "with open(\"BangaloreHomePriceModel_pickle\",'wb') as f:\n",
    "    pickle.dump(lr_clf,f)"
   ]
  },
  {
   "cell_type": "markdown",
   "id": "1006a547",
   "metadata": {
    "papermill": {
     "duration": 0.08897,
     "end_time": "2022-05-12T11:33:27.964222",
     "exception": false,
     "start_time": "2022-05-12T11:33:27.875252",
     "status": "completed"
    },
    "tags": []
   },
   "source": [
    "**Exporting column information to a json file which will be useful in future**"
   ]
  },
  {
   "cell_type": "code",
   "execution_count": 53,
   "id": "eca88068",
   "metadata": {
    "execution": {
     "iopub.execute_input": "2022-05-12T11:33:28.141308Z",
     "iopub.status.busy": "2022-05-12T11:33:28.140994Z",
     "iopub.status.idle": "2022-05-12T11:33:28.146238Z",
     "shell.execute_reply": "2022-05-12T11:33:28.145410Z"
    },
    "papermill": {
     "duration": 0.096122,
     "end_time": "2022-05-12T11:33:28.148223",
     "exception": false,
     "start_time": "2022-05-12T11:33:28.052101",
     "status": "completed"
    },
    "tags": []
   },
   "outputs": [],
   "source": [
    "import json\n",
    "columns = {\n",
    "    'data_columns' : [col.lower() for col in X.columns ]\n",
    "}\n",
    "\n",
    "with open(\"columns.json\",'w') as f:\n",
    "    f.write(json.dumps(columns))"
   ]
  }
 ],
 "metadata": {
  "kernelspec": {
   "display_name": "Python 3 (ipykernel)",
   "language": "python",
   "name": "python3"
  },
  "language_info": {
   "codemirror_mode": {
    "name": "ipython",
    "version": 3
   },
   "file_extension": ".py",
   "mimetype": "text/x-python",
   "name": "python",
   "nbconvert_exporter": "python",
   "pygments_lexer": "ipython3",
   "version": "3.9.12"
  },
  "papermill": {
   "default_parameters": {},
   "duration": 35.072501,
   "end_time": "2022-05-12T11:33:29.056676",
   "environment_variables": {},
   "exception": null,
   "input_path": "__notebook__.ipynb",
   "output_path": "__notebook__.ipynb",
   "parameters": {},
   "start_time": "2022-05-12T11:32:53.984175",
   "version": "2.3.4"
  }
 },
 "nbformat": 4,
 "nbformat_minor": 5
}
